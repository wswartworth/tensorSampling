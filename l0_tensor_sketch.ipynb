{
 "cells": [
  {
   "cell_type": "code",
   "execution_count": 1,
   "metadata": {
    "id": "Htz4YIG6w-UG"
   },
   "outputs": [],
   "source": [
    "import numpy as np\n",
    "import random\n",
    "from scipy.linalg import toeplitz, matmul_toeplitz\n",
    "\n",
    "import itertools\n",
    "from itertools import product\n",
    "\n",
    "import matplotlib.pyplot as plt\n",
    "\n",
    "from tqdm import tqdm\n",
    "\n",
    "import math"
   ]
  },
  {
   "cell_type": "code",
   "execution_count": null,
   "metadata": {
    "colab": {
     "base_uri": "https://localhost:8080/"
    },
    "id": "P_bq5tI_cto5",
    "outputId": "69970b86-1f2d-4548-d4a2-9b3296b07500"
   },
   "outputs": [
    {
     "name": "stdout",
     "output_type": "stream",
     "text": [
      "[[ 1  2  3  4  5  6  7  8]\n",
      " [ 3  4  1  2  3  4  5  6]\n",
      " [ 5  6  3  4  1  2  3  4]\n",
      " [ 7  8  5  6  3  4  1  2]\n",
      " [ 9 10  7  8  5  6  3  4]\n",
      " [11 12  9 10  7  8  5  6]\n",
      " [13 14 11 12  9 10  7  8]\n",
      " [15 16 13 14 11 12  9 10]]\n",
      "sub_first_two_cols: [[5 6]\n",
      " [3 4]\n",
      " [1 2]\n",
      " [3 4]]\n",
      "sub_r: [5 6 3 4]\n",
      "[[5 6 3 4]\n",
      " [3 4 5 6]\n",
      " [1 2 3 4]\n",
      " [3 4 1 2]]\n"
     ]
    }
   ],
   "source": [
    "class StrideTwoToeplitz:\n",
    "\n",
    "  def __init__(self, first_two_cols, r):\n",
    "\n",
    "    if type(first_two_cols) is not np.ndarray:\n",
    "      first_two_cols = np.array(first_two_cols)\n",
    "\n",
    "    if type(r) is not np.ndarray:\n",
    "      r = np.array(r)\n",
    "\n",
    "    if r[0] != first_two_cols[0,0]:\n",
    "      raise ValueError(\"first element of r must be equal to first element of first_two_cols\")\n",
    "    if r[1] != first_two_cols[0,1]:\n",
    "      raise ValueError(\"second element of r must be equal to second element of first_two_cols\")\n",
    "\n",
    "    self.first_two_cols = first_two_cols\n",
    "    self.r = r\n",
    "    self.rows = first_two_cols.shape[0]\n",
    "    self.cols = r.size\n",
    "\n",
    "  def get_entry(self, i, j):\n",
    "      if j - 2 * i >= 0:\n",
    "        return self.r[j - 2 * i]\n",
    "\n",
    "      if j % 2 == 0:\n",
    "        return self.first_two_cols[i - j//2, 0]\n",
    "\n",
    "      return self.first_two_cols[i  - j//2, 1]\n",
    "\n",
    "  def wrapped_submat(self, i, j, width, height):\n",
    "    \"\"\"\n",
    "    submatrix with top-left corner at (i,j) and dimensions (at most) width x height.\n",
    "    wraps around in the horizontal direction, but truncates vertically.\n",
    "\n",
    "    This is only useful if the matrix happens to be circulant.\n",
    "    \"\"\"\n",
    "\n",
    "    height = min(self.rows - 1 - i, height) #submatrix height\n",
    "\n",
    "    sub_first_col = np.array([self.get_entry(i+k,j) for k in range(height)])\n",
    "    sub_second_col = np.array([self.get_entry(i+k,j+1) for k in range(height)])\n",
    "    sub_first_two_cols = np.vstack([sub_first_col, sub_second_col]).T\n",
    "\n",
    "    sub_r = np.array([self.get_entry(i, (j+k) % self.cols) for k in range(width)])\n",
    "\n",
    "    print(f\"sub_first_two_cols: {sub_first_two_cols}\")\n",
    "    print(f\"sub_r: {sub_r}\")\n",
    "\n",
    "    return StrideTwoToeplitz(sub_first_two_cols, sub_r)\n",
    "\n",
    "\n",
    "  def __getitem__(self, x):\n",
    "    if type(x) is tuple:\n",
    "      return self.get_entry(x[0], x[1])\n",
    "    else:\n",
    "      raise ValueError(\"Invalid slice to StrideTwoToeplitz\")\n",
    "\n",
    "  def to_numpy(self):\n",
    "    return np.array([[self.get_entry(i,j) for j in range(self.cols)] for i in range(self.rows)])\n",
    "\n",
    "  def __str__(self):\n",
    "    return self.to_numpy().__str__()\n",
    "\n",
    "\n",
    "r = np.array([1,2,3,4,5,6,7,8])\n",
    "first_two = np.array([[1,2],[3,4],[5,6],[7,8],[9,10],[11,12],[13,14],[15,16]])\n",
    "\n",
    "A = StrideTwoToeplitz(first_two, r)\n",
    "print(A)\n",
    "B = A.wrapped_submat(1,6,4,4)\n",
    "print(B)"
   ]
  },
  {
   "cell_type": "code",
   "execution_count": null,
   "metadata": {
    "colab": {
     "base_uri": "https://localhost:8080/"
    },
    "id": "e1j6p-vhkdLt",
    "outputId": "38e801b1-f305-49eb-eeae-1b8033111e03"
   },
   "outputs": [
    {
     "name": "stdout",
     "output_type": "stream",
     "text": [
      "[[5 6]\n",
      " [3 4]\n",
      " [1 2]\n",
      " [3 4]]\n",
      "[5 6 3 4]\n",
      "[[5 6 3 4]\n",
      " [3 4 5 6]\n",
      " [1 2 3 4]\n",
      " [3 4 1 2]]\n"
     ]
    }
   ],
   "source": [
    "print(B.first_two_cols)\n",
    "print(B.r)\n",
    "print(B.to_numpy())"
   ]
  },
  {
   "cell_type": "code",
   "execution_count": null,
   "metadata": {
    "colab": {
     "base_uri": "https://localhost:8080/"
    },
    "id": "mSLjtjvBktnf",
    "outputId": "3fa3f853-9086-45a1-bc10-0757ed52b974"
   },
   "outputs": [
    {
     "data": {
      "text/plain": [
       "3"
      ]
     },
     "execution_count": 4,
     "metadata": {},
     "output_type": "execute_result"
    }
   ],
   "source": [
    "B.get_entry(0,2)"
   ]
  },
  {
   "cell_type": "markdown",
   "metadata": {
    "id": "NlW5d4jcfKH6"
   },
   "source": []
  },
  {
   "cell_type": "code",
   "execution_count": null,
   "metadata": {
    "id": "XTlVxi-iDf2m"
   },
   "outputs": [],
   "source": [
    "def _flip_op(x):\n",
    "  fst = np.array([x[0]])\n",
    "  sec = np.flip(x[1:])\n",
    "  return np.concatenate([fst, sec])\n",
    "\n",
    "def matmul_circulant(r, x):\n",
    "  c = _flip_op(r)\n",
    "  return matmul_toeplitz((c,r), x)\n",
    "\n",
    "def circulant_convolution(x,y):\n",
    "  return _flip_op(matmul_circulant(x, _flip_op(y)))\n",
    "\n",
    "def matmul_stride_two_toeplitz(first_two_cols, r, x):\n",
    "  c = np.flip(first_two_cols,axis=1).flatten()[1:]\n",
    "  return matmul_toeplitz((c,r), x)[0::2]\n",
    "\n",
    "\n",
    "def stride_two_toeplitz_entry(first_two_cols, r, i,j):\n",
    "  if j - 2 * i >= 0:\n",
    "    return r[j - 2 * i]\n",
    "\n",
    "  if j % 2 == 0:\n",
    "    return first_two_cols[i - j//2, 0]\n",
    "\n",
    "  return first_two_cols[i  - j//2, 1]\n",
    "\n",
    "def matmul_stride_two_toeplitz_half(first_two_cols, r, x):\n",
    "\n",
    "  N = x.size\n",
    "\n",
    "  assert r.size == N, \"size mismatch\"\n",
    "  assert first_two_cols.shape == (N,2), \"shape mismatch\"\n",
    "\n",
    "  #For small matrices, just do the multiplication\n",
    "  if N <= 3:\n",
    "    mat = np.zeros((N,N))\n",
    "    for i in range(N):\n",
    "      for j in range(N):\n",
    "        if j >= i:\n",
    "          mat[i,j] = stride_two_toeplitz_entry(first_two_cols, r, i, j)\n",
    "    return mat @ x\n",
    "\n",
    "  #Otherwise split up recursively\n",
    "\n",
    "  mid = N//2\n",
    "\n",
    "  x_1= x[:N//2]  #TL\n",
    "  x_2 = x[(N+1)//2:] #BR\n",
    "  x_3 = x[N//2 :] #TR\n",
    "\n",
    "  #column mid and the following column\n",
    "  mid_col = np.reshape([stride_two_toeplitz_entry(first_two_cols, r, i, mid) for i in range(N)], (N,1))\n",
    "  after_mid = np.reshape([stride_two_toeplitz_entry(first_two_cols, r, i, mid+1) for i in range(N)], (N,1))\n",
    "  two_after_mid = np.reshape([stride_two_toeplitz_entry(first_two_cols, r, i, mid+2) for i in range(N)], (N,1))\n",
    "\n",
    "  mid_and_next = np.hstack([mid_col, after_mid])\n",
    "  mid_and_next_2 = np.hstack([after_mid, two_after_mid]) if N % 2 == 1 else mid_and_next #This could likely be cleaned up\n",
    "\n",
    "\n",
    "  #print(f\"mid_and_next: {mid_and_next}\")\n",
    "\n",
    "  TL_params = (first_two_cols[:N//2, :], r[:mid])\n",
    "  TR_params = (mid_and_next[:(N+1)//2, :], r[mid:])\n",
    "\n",
    "  BR_r = np.array([stride_two_toeplitz_entry(first_two_cols, r, (N+1)//2, j) for j in range((N+1)//2, N)])\n",
    "  BR_params = (mid_and_next_2[(N+1)//2 :, :], BR_r)\n",
    "\n",
    "\n",
    "  TR_prod = matmul_stride_two_toeplitz(*TR_params, x_3)\n",
    "  TL_prod = matmul_stride_two_toeplitz_half(*TL_params, x_1)\n",
    "  BR_prod = matmul_stride_two_toeplitz_half(*BR_params, x_2)\n",
    "\n",
    "  if N % 2 == 1:\n",
    "    TL_prod = np.hstack([TL_prod, np.array([0])])\n",
    "\n",
    "  return np.hstack([TL_prod + TR_prod, BR_prod])\n",
    "\n",
    "\"\"\"\n",
    "def stride_two_toeplitz_transpose(first_two_cols, r):\n",
    "  M = first_two_cols.shape[0]\n",
    "  N = r.size\n",
    "\n",
    "  new_r = first_two_cols[:,0].reshape(M)\n",
    "\n",
    "  #print(new_r)\n",
    "\n",
    "  col1 = np.reshape(r, (N,1))\n",
    "  col2 = np.reshape([stride_two_toeplitz_entry(first_two_cols, r, 1,j) for j in range(N)], (N,1))\n",
    "\n",
    "  #print(col1)\n",
    "  #print(col2)\n",
    "\n",
    "  new_first_two = np.hstack([col1, col2])\n",
    "\n",
    "  return new_first_two, new_r\n",
    "\"\"\"\n",
    "\n",
    "def matmul_stride_two_toeplitz_BL(first_two_cols, r, x):\n",
    "  N = x.size\n",
    "  left1 = np.array([stride_two_toeplitz_entry(first_two_cols, r, i, N-2) for i in range(N-1,-1,-1)])\n",
    "  left2 = np.array([stride_two_toeplitz_entry(first_two_cols, r, i, N-1) for i in range(N-1,-1,-1)])\n",
    "  two_cols_prime = np.vstack([left2, left1]).T\n",
    "\n",
    "  r_prime = np.array([stride_two_toeplitz_entry(first_two_cols, r, N-1, i) for i in range(N-1,-1,-1)])\n",
    "\n",
    "  #print(f\"two_cols_prime: {two_cols_prime}\")\n",
    "  #print(f\"r_prime: {r_prime}\")\n",
    "\n",
    "  return np.flip(matmul_stride_two_toeplitz_half(two_cols_prime, r_prime, np.flip(x)))\n",
    "\n",
    "def matmul_parallelogram(first_two_cols, r, x):\n",
    "  N = r.size\n",
    "  M = first_two_cols.shape[0]\n",
    "\n",
    "  assert M <= N, \"M must be <= N\"\n",
    "\n",
    "  #print(\"here\")\n",
    "  x1 = x[:M-1]\n",
    "  x2 = x[M-1: N-M+1]\n",
    "  x3 = x[N-M+1:]\n",
    "\n",
    "  #print(f\"x1:{x1}\")\n",
    "  #print(f\"x2:{x2}\")\n",
    "  #print(f\"x3:{x3}\")\n",
    "\n",
    "  r1 = r[:M-1]\n",
    "  r2 = r[M-1: N-M+1]\n",
    "  r3 = r[N-M-1:N-2]\n",
    "\n",
    "  #print(f\"  r1:{r1}\")\n",
    "  #print(f\"  r2:{r2}\")\n",
    "  #print(f\"  r3:{r3}\")\n",
    "\n",
    "  two_cols1 = first_two_cols[:M-1, :]\n",
    "\n",
    "  #print(f\"two_cols1:{two_cols1}\")\n",
    "\n",
    "  mid1 = np.reshape([stride_two_toeplitz_entry(first_two_cols, r, i, M-1) for i in range(M)], (M,1))\n",
    "  mid2 = np.reshape([stride_two_toeplitz_entry(first_two_cols, r, i, M) for i in range(M)], (M,1))\n",
    "  two_cols2 = np.hstack([mid1, mid2])\n",
    "  #print(f\"two_cols2:{two_cols2}\")\n",
    "\n",
    "  end1 = np.reshape([stride_two_toeplitz_entry(first_two_cols, r, i, N-M+1) for i in range(M)], (M,1))\n",
    "  end2 = np.reshape([stride_two_toeplitz_entry(first_two_cols, r, i, N-M+2) for i in range(M)], (M,1))\n",
    "  two_cols3 = np.hstack([end1, end2])[1:, :]\n",
    "  #print(f\"two_cols3:{two_cols3}\")\n",
    "\n",
    "  prod1 = matmul_stride_two_toeplitz_half(two_cols1, r1, x1)\n",
    "  prod1 = np.hstack([prod1, np.array([0])])\n",
    "\n",
    "  prod2 = matmul_stride_two_toeplitz(two_cols2, r2, x2)[:M]\n",
    "  prod3 = matmul_stride_two_toeplitz_BL(two_cols3, r3, x3)\n",
    "  prod3 = np.hstack([np.array([0]), prod3])\n",
    "\n",
    "  #print(f\"prod1:{prod1}\")\n",
    "  #print(f\"prod2:{prod2}\")\n",
    "  #print(f\"prod3:{prod3}\")\n",
    "\n",
    "  return prod1 + prod2 + prod3\n",
    "\n",
    "def matmul_toeplitz_stripe(first_two_cols, r, width, x):\n",
    "  N = x.size\n",
    "  assert first_two_cols.shape == (N,2), \"shape mismatch\"\n",
    "  assert r.size == N, \"size mismatch\"\n",
    "\n",
    "  prod = np.zeros(N)\n",
    "  for i in range(0, N, width):\n",
    "    sub_first_two, sub_r = submat_params(first_two_cols, r, i, width, 2*width-1)\n",
    "    h = sub_first_two.shape[0]\n",
    "\n",
    "    print(f\"sub_first_two:{sub_first_two}\")\n",
    "    print(f\"sub_r:{sub_r}\")\n",
    "\n",
    "    x_indices = [k % N for k in range(i, i+width+h-1)]\n",
    "    prod_indices = [k % N for k in range(i, i+h)]\n",
    "\n",
    "    sub_x = x[x_indices]\n",
    "\n",
    "    print(f\"sub_x:{sub_x}\")\n",
    "\n",
    "    parallelogram_prod = matmul_parallelogram(sub_first_two, sub_r, sub_x)\n",
    "    print(f\"parallelogram_prod:{parallelogram_prod}\")\n",
    "\n",
    "    prod[prod_indices] += parallelogram_prod\n",
    "\n",
    "  return prod"
   ]
  },
  {
   "cell_type": "markdown",
   "metadata": {
    "id": "MZ6_R1YzwTG4"
   },
   "source": [
    "**Tests**"
   ]
  },
  {
   "cell_type": "code",
   "execution_count": null,
   "metadata": {
    "id": "jdYWokFWVuFR"
   },
   "outputs": [],
   "source": []
  },
  {
   "cell_type": "markdown",
   "metadata": {
    "id": "Ts3WqQdrVvCu"
   },
   "source": [
    "*Stripe*"
   ]
  },
  {
   "cell_type": "code",
   "execution_count": null,
   "metadata": {
    "colab": {
     "base_uri": "https://localhost:8080/",
     "height": 466
    },
    "id": "wechTX9uVxDf",
    "outputId": "d1011996-4b5e-419a-c970-331d2dea99d1"
   },
   "outputs": [
    {
     "name": "stdout",
     "output_type": "stream",
     "text": [
      "[[ 1.  2.  3.  0.  0.  0.  0.  0.]\n",
      " [ 0.  4.  1.  2.  0.  0.  0.  0.]\n",
      " [ 0.  0.  3.  4.  1.  0.  0.  0.]\n",
      " [ 0.  0.  0.  6.  3.  4.  0.  0.]\n",
      " [ 0.  0.  0.  0.  5.  6.  3.  0.]\n",
      " [ 0.  0.  0.  0.  0.  8.  5.  6.]\n",
      " [13.  0.  0.  0.  0.  0.  7.  8.]\n",
      " [15. 16.  0.  0.  0.  0.  0. 10.]]\n",
      "[ 140.  190.  300.  630.  820. 1310. 1260. 1270.]\n"
     ]
    },
    {
     "ename": "NameError",
     "evalue": "name 'submat_params' is not defined",
     "output_type": "error",
     "traceback": [
      "\u001b[0;31m---------------------------------------------------------------------------\u001b[0m",
      "\u001b[0;31mNameError\u001b[0m                                 Traceback (most recent call last)",
      "\u001b[0;32m<ipython-input-6-484e087a28d4>\u001b[0m in \u001b[0;36m<cell line: 19>\u001b[0;34m()\u001b[0m\n\u001b[1;32m     17\u001b[0m \u001b[0;34m\u001b[0m\u001b[0m\n\u001b[1;32m     18\u001b[0m \u001b[0mprint\u001b[0m\u001b[0;34m(\u001b[0m\u001b[0mA\u001b[0m \u001b[0;34m@\u001b[0m \u001b[0mx\u001b[0m\u001b[0;34m)\u001b[0m\u001b[0;34m\u001b[0m\u001b[0;34m\u001b[0m\u001b[0m\n\u001b[0;32m---> 19\u001b[0;31m \u001b[0mprint\u001b[0m\u001b[0;34m(\u001b[0m\u001b[0mmatmul_toeplitz_stripe\u001b[0m\u001b[0;34m(\u001b[0m\u001b[0mfirst_two\u001b[0m\u001b[0;34m,\u001b[0m \u001b[0mr\u001b[0m\u001b[0;34m,\u001b[0m \u001b[0mw\u001b[0m\u001b[0;34m,\u001b[0m \u001b[0mx\u001b[0m\u001b[0;34m)\u001b[0m\u001b[0;34m)\u001b[0m\u001b[0;34m\u001b[0m\u001b[0;34m\u001b[0m\u001b[0m\n\u001b[0m",
      "\u001b[0;32m<ipython-input-5-7a8ca7f13ff5>\u001b[0m in \u001b[0;36mmatmul_toeplitz_stripe\u001b[0;34m(first_two_cols, r, width, x)\u001b[0m\n\u001b[1;32m    166\u001b[0m   \u001b[0mprod\u001b[0m \u001b[0;34m=\u001b[0m \u001b[0mnp\u001b[0m\u001b[0;34m.\u001b[0m\u001b[0mzeros\u001b[0m\u001b[0;34m(\u001b[0m\u001b[0mN\u001b[0m\u001b[0;34m)\u001b[0m\u001b[0;34m\u001b[0m\u001b[0;34m\u001b[0m\u001b[0m\n\u001b[1;32m    167\u001b[0m   \u001b[0;32mfor\u001b[0m \u001b[0mi\u001b[0m \u001b[0;32min\u001b[0m \u001b[0mrange\u001b[0m\u001b[0;34m(\u001b[0m\u001b[0;36m0\u001b[0m\u001b[0;34m,\u001b[0m \u001b[0mN\u001b[0m\u001b[0;34m,\u001b[0m \u001b[0mwidth\u001b[0m\u001b[0;34m)\u001b[0m\u001b[0;34m:\u001b[0m\u001b[0;34m\u001b[0m\u001b[0;34m\u001b[0m\u001b[0m\n\u001b[0;32m--> 168\u001b[0;31m     \u001b[0msub_first_two\u001b[0m\u001b[0;34m,\u001b[0m \u001b[0msub_r\u001b[0m \u001b[0;34m=\u001b[0m \u001b[0msubmat_params\u001b[0m\u001b[0;34m(\u001b[0m\u001b[0mfirst_two_cols\u001b[0m\u001b[0;34m,\u001b[0m \u001b[0mr\u001b[0m\u001b[0;34m,\u001b[0m \u001b[0mi\u001b[0m\u001b[0;34m,\u001b[0m \u001b[0mwidth\u001b[0m\u001b[0;34m,\u001b[0m \u001b[0;36m2\u001b[0m\u001b[0;34m*\u001b[0m\u001b[0mwidth\u001b[0m\u001b[0;34m-\u001b[0m\u001b[0;36m1\u001b[0m\u001b[0;34m)\u001b[0m\u001b[0;34m\u001b[0m\u001b[0;34m\u001b[0m\u001b[0m\n\u001b[0m\u001b[1;32m    169\u001b[0m     \u001b[0mh\u001b[0m \u001b[0;34m=\u001b[0m \u001b[0msub_first_two\u001b[0m\u001b[0;34m.\u001b[0m\u001b[0mshape\u001b[0m\u001b[0;34m[\u001b[0m\u001b[0;36m0\u001b[0m\u001b[0;34m]\u001b[0m\u001b[0;34m\u001b[0m\u001b[0;34m\u001b[0m\u001b[0m\n\u001b[1;32m    170\u001b[0m \u001b[0;34m\u001b[0m\u001b[0m\n",
      "\u001b[0;31mNameError\u001b[0m: name 'submat_params' is not defined"
     ]
    }
   ],
   "source": [
    "r = np.array([1,2,3,4,5,6,7,8])\n",
    "x = np.array([10,20,30,40,50,60,70,80])\n",
    "first_two = np.array([[1,2],[3,4],[5,6],[7,8],[9,10],[11,12],[13,14],[15,16]])\n",
    "w = 3\n",
    "\n",
    "M = first_two.shape[0]\n",
    "N = x.size\n",
    "\n",
    "A = np.zeros((M,N))\n",
    "for i in range(M):\n",
    "  for j in range(N):\n",
    "    #print(f\"i:{i}, j:{j}\")\n",
    "    if (j >= i and j < i + w) or (i+w >= N and j <= i+w-(N+1)):\n",
    "      A[i,j] = stride_two_toeplitz_entry(first_two, r, i, j)\n",
    "\n",
    "print(A)\n",
    "\n",
    "print(A @ x)\n",
    "print(matmul_toeplitz_stripe(first_two, r, w, x))"
   ]
  },
  {
   "cell_type": "markdown",
   "metadata": {
    "id": "6UJH482oxRhp"
   },
   "source": [
    "*Parallelogram*"
   ]
  },
  {
   "cell_type": "code",
   "execution_count": null,
   "metadata": {
    "colab": {
     "base_uri": "https://localhost:8080/"
    },
    "id": "szizw2yPxVp_",
    "outputId": "412628fa-2910-47c6-bf73-24244d3abc2e"
   },
   "outputs": [
    {
     "name": "stdout",
     "output_type": "stream",
     "text": [
      "SUCCESS\n"
     ]
    }
   ],
   "source": [
    "r = np.array([1,2,3,4,5])\n",
    "x = np.array([10,20,30,40,50])\n",
    "first_two = np.array([[1,2],[3,4],[5,6]])\n",
    "\n",
    "M = first_two.shape[0]\n",
    "N = x.size\n",
    "\n",
    "A = np.zeros((M,N))\n",
    "for i in range(M):\n",
    "  for j in range(N):\n",
    "    #print(f\"i:{i}, j:{j}\")\n",
    "    if j >= i and j - i <= N-M:\n",
    "      A[i,j] = stride_two_toeplitz_entry(first_two, r, i, j)\n",
    "\n",
    "\n",
    "if np.allclose(matmul_parallelogram(first_two, r, x), A@x):\n",
    "  print(\"SUCCESS\")\n",
    "else:\n",
    "  print(\"ERROR\")"
   ]
  },
  {
   "cell_type": "markdown",
   "metadata": {
    "id": "a19Cx1o7U8zJ"
   },
   "source": [
    "*Tests for top part of Toeplitz*"
   ]
  },
  {
   "cell_type": "code",
   "execution_count": null,
   "metadata": {
    "colab": {
     "base_uri": "https://localhost:8080/"
    },
    "id": "iJ_w7GdL0CsM",
    "outputId": "63bd55c3-92d5-460e-e1d2-64e37ea8ebd5"
   },
   "outputs": [
    {
     "name": "stdout",
     "output_type": "stream",
     "text": [
      "SUCCESS\n",
      "SUCCESS\n",
      "SUCCESS\n"
     ]
    }
   ],
   "source": [
    "def stride_two_toeplitz_test_BL(first_two_cols, r, x):\n",
    "\n",
    "  N = r.size\n",
    "  A = np.zeros((N,N))\n",
    "  for i in range(N):\n",
    "    for j in range(N):\n",
    "      if j <= i:\n",
    "        A[i,j] = stride_two_toeplitz_entry(first_two, r, i, j)\n",
    "\n",
    "  check_ans = A @ x\n",
    "  alg_ans = matmul_stride_two_toeplitz_BL(first_two, r, x)\n",
    "\n",
    "  #print(check_ans)\n",
    "  #print(alg_ans)\n",
    "\n",
    "  if np.allclose(check_ans, alg_ans):\n",
    "    print(\"SUCCESS\")\n",
    "  else:\n",
    "    print(\"ERROR\")\n",
    "\n",
    "#test 1\n",
    "first_two = np.array([[1,2],[30,40],[50,60],[70,80],[90,100]])\n",
    "r = np.array([1,2,3,4,5])\n",
    "x = np.array([1,10,100,1000,10000])\n",
    "stride_two_toeplitz_test_BL(first_two, r, x)\n",
    "\n",
    "#test2\n",
    "first_two = np.array([[1,2],[30,40],[50,60],[70,80],[90,100],[110,120]])\n",
    "r = np.array([1,2,3,4,5,6])\n",
    "x = np.array([1,10,100,1000,10000,100000])\n",
    "stride_two_toeplitz_test_BL(first_two, r, x)\n",
    "\n",
    "#test 3\n",
    "N = 200\n",
    "first_two = np.random.randn(N,2)\n",
    "r = np.random.randn(N)\n",
    "r[0] = first_two[0,0]\n",
    "r[1] = first_two[0,1]\n",
    "x = np.random.randn(N)\n",
    "stride_two_toeplitz_test_BL(first_two, r, x)"
   ]
  },
  {
   "cell_type": "code",
   "execution_count": null,
   "metadata": {
    "id": "VG_fhPr47--U"
   },
   "outputs": [],
   "source": [
    "#r = np.array([1,2,3,4])\n",
    "#first_two = np.array([[1,2],[3,4],[5,6],[7,8],[9,10]])\n",
    "\n",
    "#new_first_two, new_r = stride_two_toeplitz_transpose(first_two, r)\n",
    "#print(new_first_two)\n",
    "#print(new_r)"
   ]
  },
  {
   "cell_type": "code",
   "execution_count": null,
   "metadata": {
    "id": "011Pl-80SmPV"
   },
   "outputs": [],
   "source": [
    "def stride_two_toeplitz_test(first_two_cols, r, x):\n",
    "\n",
    "  N = r.size\n",
    "  A = np.zeros((N,N))\n",
    "  for i in range(N):\n",
    "    for j in range(N):\n",
    "      if j >= i:\n",
    "        A[i,j] = stride_two_toeplitz_entry(first_two, r, i, j)\n",
    "\n",
    "  check_ans = A @ x\n",
    "  alg_ans = matmul_stride_two_toeplitz_half(first_two, r, x)\n",
    "\n",
    "  #print(check_ans)\n",
    "  #print(alg_ans)\n",
    "\n",
    "  if np.allclose(check_ans, alg_ans):\n",
    "    print(\"SUCCESS\")\n",
    "  else:\n",
    "    print(\"ERROR\")"
   ]
  },
  {
   "cell_type": "code",
   "execution_count": null,
   "metadata": {
    "colab": {
     "base_uri": "https://localhost:8080/"
    },
    "id": "dV7jB1QAOEN0",
    "outputId": "ac0a1979-ca03-480c-dca4-f10b08492548"
   },
   "outputs": [
    {
     "name": "stdout",
     "output_type": "stream",
     "text": [
      "SUCCESS\n",
      "SUCCESS\n",
      "SUCCESS\n"
     ]
    }
   ],
   "source": [
    "#test 1\n",
    "first_two = np.array([[1,2],[30,40],[50,60],[70,80],[90,100]])\n",
    "r = np.array([1,2,3,4,5])\n",
    "x = np.array([1,10,100,1000,10000])\n",
    "stride_two_toeplitz_test(first_two, r, x)\n",
    "\n",
    "#test2\n",
    "first_two = np.array([[1,2],[30,40],[50,60],[70,80],[90,100],[110,120]])\n",
    "r = np.array([1,2,3,4,5,6])\n",
    "x = np.array([1,10,100,1000,10000,100000])\n",
    "stride_two_toeplitz_test(first_two, r, x)\n",
    "\n",
    "#test 3\n",
    "N = 200\n",
    "first_two = np.random.randn(N,2)\n",
    "r = np.random.randn(N)\n",
    "r[0] = first_two[0,0]\n",
    "r[1] = first_two[0,1]\n",
    "x = np.random.randn(N)\n",
    "stride_two_toeplitz_test(first_two, r, x)"
   ]
  },
  {
   "cell_type": "markdown",
   "metadata": {
    "id": "Rlc0yITgVMHz"
   },
   "source": [
    "*Fast summation tests*"
   ]
  },
  {
   "cell_type": "code",
   "execution_count": null,
   "metadata": {
    "id": "8479LZ1F6p1R"
   },
   "outputs": [],
   "source": [
    "def B_sum_fast(x, y, z, T):\n",
    "  '''sum over (i,j,k) of x_i * y_j * z_k where i + j + k (mod N) [0,T-1]'''\n",
    "\n",
    "  three_way_conv = circulant_convolution(circulant_convolution(x,y), z)\n",
    "  return np.sum(three_way_conv[0:T])\n",
    "\n",
    "def B_sum_naive(x, y, z, T):\n",
    "    N = x.size\n",
    "    triples = itertools.product(range(N), range(N), range(N))\n",
    "    return sum([x[i]*y[j]*z[k] for i,j,k in triples if 0 <= (i + j + k) % N <= T-1])\n",
    "\n",
    "\n",
    "def C_sum_components(x, y, T):\n",
    "    '''\n",
    "    vector whose index k entry is given by:\n",
    "    sum over x_i y_j where i + j = k and 0 <= i-j <= T-1\n",
    "    '''\n",
    "    pass\n",
    "\n",
    "def C_sum_naive(x, y, z, T):\n",
    "    N = x.size\n",
    "    triples = itertools.product(range(N), range(N), range(N))\n",
    "    return sum([x[i]*y[j]*z[k] for i,j,k in triples\n",
    "                if (i+j+k % N == 0) and 0 <= (j-i+N)%N <= T-1 ])\n"
   ]
  },
  {
   "cell_type": "code",
   "execution_count": null,
   "metadata": {
    "colab": {
     "base_uri": "https://localhost:8080/"
    },
    "id": "pkjiYSAHLOJK",
    "outputId": "ac509764-913d-4731-a02b-8aaa25dcf2e5"
   },
   "outputs": [
    {
     "name": "stdout",
     "output_type": "stream",
     "text": [
      "fast:57.151481072530714\n",
      "naive:57.1514810725306\n",
      "\n"
     ]
    }
   ],
   "source": [
    "x = np.random.randn(100)\n",
    "y = np.random.randn(100)\n",
    "z = np.random.randn(100)\n",
    "\n",
    "fast = B_sum_fast(x,y,z,2)\n",
    "print(f\"fast:{fast}\")\n",
    "\n",
    "naive = B_sum_naive(x,y,z,2)\n",
    "print(f\"naive:{naive}\")\n",
    "\n",
    "print()"
   ]
  },
  {
   "cell_type": "code",
   "execution_count": null,
   "metadata": {
    "colab": {
     "base_uri": "https://localhost:8080/"
    },
    "id": "8b6YxaEd4SWh",
    "outputId": "ace06a58-9102-4d84-83f6-15274ebfe67e"
   },
   "outputs": [
    {
     "name": "stdout",
     "output_type": "stream",
     "text": [
      "These should be equal:\n",
      "[54321. 32165. 16587. 58809. 81031.]\n",
      "[54321. 32165. 16587. 58809. 81031.]\n"
     ]
    }
   ],
   "source": [
    "\"\"\"\n",
    "Check that stride two toeplitz works\n",
    "\"\"\"\n",
    "\n",
    "first_two = np.array([[1,2],[5,6],[7,8],[9,10],[11,12]])\n",
    "r = np.array([1,2,3,4,5])\n",
    "\n",
    "A = np.zeros((5,5))\n",
    "for i in range(5):\n",
    "  for j in range(5):\n",
    "    A[i,j] = stride_two_toeplitz_entry(first_two, r, i, j)\n",
    "\n",
    "x = np.array([1,10,100,1000,10000])\n",
    "\n",
    "print(\"These should be equal:\")\n",
    "print(matmul_stride_two_toeplitz(first_two, r, x))\n",
    "print(A @ x)"
   ]
  },
  {
   "cell_type": "code",
   "execution_count": null,
   "metadata": {
    "id": "t9FEc3CE2oKl"
   },
   "outputs": [],
   "source": []
  },
  {
   "cell_type": "markdown",
   "metadata": {
    "id": "paFAmloD2oZd"
   },
   "source": [
    "**Ell_0 Sampling Tests**"
   ]
  },
  {
   "cell_type": "code",
   "execution_count": 2,
   "metadata": {
    "id": "d60yF0T04Kv7"
   },
   "outputs": [],
   "source": [
    "def cube_value_check(X):\n",
    "    if len(X.shape) != 3:\n",
    "      raise ValueError(\"X must be a 3D array\")\n",
    "\n",
    "    N = X.shape[0]\n",
    "\n",
    "    if X.shape[1] != N or X.shape[2] != N:\n",
    "      raise ValueError(\"X must be a cube\")\n",
    "\n",
    "def random_permute(X):\n",
    "  cube_value_check(X)\n",
    "  N = X.shape[0]\n",
    "  ind1 = list(range(N))\n",
    "  ind2 = list(range(N))\n",
    "  ind3 =  list(range(N))\n",
    "  random.shuffle(ind1)\n",
    "  random.shuffle(ind2)\n",
    "  random.shuffle(ind3)\n",
    "  indices = [ind1, ind2, ind3]\n",
    "  return X[indices]\n",
    "\n",
    "def B_sample(X,T):\n",
    "  N = X.shape[0]\n",
    "  prod_tuples = itertools.product(range(N), repeat=3)\n",
    "  return [(i,j,k) for i,j,k in prod_tuples if 0 <= (i+j+k)%N <= T-1]\n",
    "\n",
    "def C_sample(X,T):\n",
    "    N = X.shape[0]\n",
    "    return [(i,j, (i+j) % N) for i,j in itertools.product(range(N), range(N))\n",
    "      if 0 <= (i-j)%N <= T-1]\n",
    "\n",
    "def random_sample(X,samples):\n",
    "  N = X.shape[0]\n",
    "  prod_tuples = list(itertools.product(range(N),repeat=3))\n",
    "  return random.sample(prod_tuples, samples)\n",
    "\n",
    "def p_sample(X, p):\n",
    "\n",
    "  cube_value_check(X)\n",
    "  N = X.shape[0]\n",
    "\n",
    "  if p >= 1/N:\n",
    "    sample = B_sample(X, int(p * N) ) #We want T/N = p\n",
    "  elif p >= 1/(N**2):\n",
    "    sample = C_sample(X, int(p * (N**2)) ) #We want T/N^2 = p\n",
    "  else:\n",
    "    sample = random_sample(X, int(p * (N**3)))\n",
    "\n",
    "  perm1 = list(range(N))\n",
    "  perm2 = list(range(N))\n",
    "  perm3 = list(range(N))\n",
    "  random.shuffle(perm1)\n",
    "  random.shuffle(perm2)\n",
    "  random.shuffle(perm3)\n",
    "\n",
    "  permuted_sample = [(perm1[i], perm2[j], perm3[k]) for i,j,k in sample]\n",
    "  return permuted_sample\n",
    "\n",
    "\n",
    "def random_sum(X, samples):\n",
    "  #take a random sample of the entries of X and add them\n",
    "  cube_value_check(X)\n",
    "  N = X.shape[0]\n",
    "\n",
    "  prod_tuples = list(itertools.product(range(N),repeat=3))\n",
    "  indices = random.sample(prod_tuples, samples)\n",
    "  return sum([X[i,j,k] for i,j,k in indices])\n",
    "\n",
    "def p_sum_dense(X, p):\n",
    "  \"\"\"\n",
    "  Compute the sum over a p-sample\n",
    "  \"\"\"\n",
    "  N = X.shape[0]\n",
    "\n",
    "  if p >= 1/N:\n",
    "    return B_sum_dense(X, int(p * N) ) #We want T/N = p\n",
    "  elif p >= 1/(N**2):\n",
    "    return C_sum_dense(X, int(p * (N**2)) ) #We want T/N^2 = p\n",
    "  else:\n",
    "    return random_sum(X, int(p * (N**3)))\n",
    "\n",
    "\n",
    "def is_singleton(X, sample):\n",
    "  '''currently cheating'''\n",
    "  return sum([X[i,j,k] != 0 for i,j,k in sample]) == 1\n",
    "\n",
    "def ell_0_sample(X, buckets_per_level, level_gap):\n",
    "\n",
    "  N = X.shape[0]\n",
    "  p = 1/N**3\n",
    "\n",
    "  #levels = []\n",
    "  while(p < 1):\n",
    "    #new_level = []\n",
    "\n",
    "    for _ in range(buckets_per_level):\n",
    "      sample = p_sample(X, p)\n",
    "      sample_sum = sum(X[i,j,k] for i,j,k in sample)\n",
    "      if sample_sum != 0 and is_singleton(X,sample):\n",
    "          return sample_sum, p\n",
    "      #new_level.append(sample_sum)\n",
    "\n",
    "    #levels.append(new_level)\n",
    "    p *= level_gap\n",
    "\n",
    "  return None, None\n",
    "\n",
    "def ell_0_experiment(N, support_mask, trials, buckets_per_level, level_gap):\n",
    "\n",
    "  A = np.zeros((N,N,N))\n",
    "  for idx,(i,j,k) in enumerate(support_mask):\n",
    "    A[i,j,k] = idx+1\n",
    "\n",
    "  supp_size = len(support_mask)\n",
    "  hist = [0] * (supp_size+1)\n",
    "  fail_count = 0\n",
    "  for _ in tqdm(range(trials)):\n",
    "    sample, p = ell_0_sample(A, buckets_per_level, level_gap)\n",
    "    #print(f\"p:{p}\")\n",
    "    if sample is not None:\n",
    "      hist[int(sample)] += 1\n",
    "    else:\n",
    "      fail_count += 1\n",
    "\n",
    "  return hist[1:], fail_count\n",
    "\n",
    "\n",
    "def multi_region_experiment(N, regions, trials, buckets_per_level, level_gap):\n",
    "  A = np.zeros((N,N,N))\n",
    "  for idx, region in enumerate(regions):\n",
    "    for i,j,k in region:\n",
    "      A[i,j,k] = idx+1\n",
    "\n",
    "  hist = [0]*(len(regions)+1)\n",
    "\n",
    "  fail_count = 0\n",
    "  for _ in tqdm(range(trials)):\n",
    "    sample, p = ell_0_sample(A, buckets_per_level, level_gap)\n",
    "    if sample is not None:\n",
    "      hist[int(sample)] += 1\n",
    "    else:\n",
    "      fail_count += 1\n",
    "\n",
    "  return hist[1:], fail_count"
   ]
  },
  {
   "cell_type": "code",
   "execution_count": 22,
   "metadata": {
    "colab": {
     "base_uri": "https://localhost:8080/"
    },
    "id": "rLaukFrB_VoA",
    "outputId": "8f341060-2d9f-43ba-8927-3af59bfe50ba"
   },
   "outputs": [
    {
     "name": "stdout",
     "output_type": "stream",
     "text": [
      "starting experiment: ((1, 1, 1), (1, 1, 20))\n"
     ]
    },
    {
     "name": "stderr",
     "output_type": "stream",
     "text": [
      "100%|████████████████████████████████████████████████████████████████████████████████████████████████| 1000/1000 [03:03<00:00,  5.46it/s]\n"
     ]
    },
    {
     "name": "stdout",
     "output_type": "stream",
     "text": [
      "{((1, 1, 1), (1, 1, 20)): ([965, 35], 0)}\n",
      "starting experiment: ((1, 1, 1), (1, 10, 20))\n"
     ]
    },
    {
     "name": "stderr",
     "output_type": "stream",
     "text": [
      "100%|████████████████████████████████████████████████████████████████████████████████████████████████| 1000/1000 [02:29<00:00,  6.70it/s]\n"
     ]
    },
    {
     "name": "stdout",
     "output_type": "stream",
     "text": [
      "{((1, 1, 1), (1, 1, 20)): ([965, 35], 0), ((1, 1, 1), (1, 10, 20)): ([997, 3], 0)}\n",
      "starting experiment: ((1, 1, 1), (1, 20, 20))\n"
     ]
    },
    {
     "name": "stderr",
     "output_type": "stream",
     "text": [
      "100%|████████████████████████████████████████████████████████████████████████████████████████████████| 1000/1000 [02:13<00:00,  7.51it/s]\n"
     ]
    },
    {
     "name": "stdout",
     "output_type": "stream",
     "text": [
      "{((1, 1, 1), (1, 1, 20)): ([965, 35], 0), ((1, 1, 1), (1, 10, 20)): ([997, 3], 0), ((1, 1, 1), (1, 20, 20)): ([997, 2], 1)}\n",
      "starting experiment: ((1, 1, 1), (20, 20, 20))\n"
     ]
    },
    {
     "name": "stderr",
     "output_type": "stream",
     "text": [
      "100%|████████████████████████████████████████████████████████████████████████████████████████████████| 1000/1000 [00:44<00:00, 22.52it/s]\n"
     ]
    },
    {
     "name": "stdout",
     "output_type": "stream",
     "text": [
      "{((1, 1, 1), (1, 1, 20)): ([965, 35], 0), ((1, 1, 1), (1, 10, 20)): ([997, 3], 0), ((1, 1, 1), (1, 20, 20)): ([997, 2], 1), ((1, 1, 1), (20, 20, 20)): ([999, 0], 1)}\n",
      "starting experiment: ((10, 10, 10), (1, 1, 20))\n"
     ]
    },
    {
     "name": "stderr",
     "output_type": "stream",
     "text": [
      "100%|████████████████████████████████████████████████████████████████████████████████████████████████| 1000/1000 [01:40<00:00,  9.94it/s]\n"
     ]
    },
    {
     "name": "stdout",
     "output_type": "stream",
     "text": [
      "{((1, 1, 1), (1, 1, 20)): ([965, 35], 0), ((1, 1, 1), (1, 10, 20)): ([997, 3], 0), ((1, 1, 1), (1, 20, 20)): ([997, 2], 1), ((1, 1, 1), (20, 20, 20)): ([999, 0], 1), ((10, 10, 10), (1, 1, 20)): ([20, 980], 0)}\n",
      "starting experiment: ((10, 10, 10), (1, 10, 20))\n"
     ]
    },
    {
     "name": "stderr",
     "output_type": "stream",
     "text": [
      "100%|████████████████████████████████████████████████████████████████████████████████████████████████| 1000/1000 [01:35<00:00, 10.45it/s]\n"
     ]
    },
    {
     "name": "stdout",
     "output_type": "stream",
     "text": [
      "{((1, 1, 1), (1, 1, 20)): ([965, 35], 0), ((1, 1, 1), (1, 10, 20)): ([997, 3], 0), ((1, 1, 1), (1, 20, 20)): ([997, 2], 1), ((1, 1, 1), (20, 20, 20)): ([999, 0], 1), ((10, 10, 10), (1, 1, 20)): ([20, 980], 0), ((10, 10, 10), (1, 10, 20)): ([161, 839], 0)}\n",
      "starting experiment: ((10, 10, 10), (1, 20, 20))\n"
     ]
    },
    {
     "name": "stderr",
     "output_type": "stream",
     "text": [
      "100%|████████████████████████████████████████████████████████████████████████████████████████████████| 1000/1000 [01:31<00:00, 10.88it/s]\n"
     ]
    },
    {
     "name": "stdout",
     "output_type": "stream",
     "text": [
      "{((1, 1, 1), (1, 1, 20)): ([965, 35], 0), ((1, 1, 1), (1, 10, 20)): ([997, 3], 0), ((1, 1, 1), (1, 20, 20)): ([997, 2], 1), ((1, 1, 1), (20, 20, 20)): ([999, 0], 1), ((10, 10, 10), (1, 1, 20)): ([20, 980], 0), ((10, 10, 10), (1, 10, 20)): ([161, 839], 0), ((10, 10, 10), (1, 20, 20)): ([297, 703], 0)}\n",
      "starting experiment: ((10, 10, 10), (20, 20, 20))\n"
     ]
    },
    {
     "name": "stderr",
     "output_type": "stream",
     "text": [
      "100%|████████████████████████████████████████████████████████████████████████████████████████████████| 1000/1000 [00:36<00:00, 27.69it/s]\n"
     ]
    },
    {
     "name": "stdout",
     "output_type": "stream",
     "text": [
      "{((1, 1, 1), (1, 1, 20)): ([965, 35], 0), ((1, 1, 1), (1, 10, 20)): ([997, 3], 0), ((1, 1, 1), (1, 20, 20)): ([997, 2], 1), ((1, 1, 1), (20, 20, 20)): ([999, 0], 1), ((10, 10, 10), (1, 1, 20)): ([20, 980], 0), ((10, 10, 10), (1, 10, 20)): ([161, 839], 0), ((10, 10, 10), (1, 20, 20)): ([297, 703], 0), ((10, 10, 10), (20, 20, 20)): ([895, 104], 1)}\n",
      "starting experiment: ((20, 20, 20), (1, 1, 20))\n"
     ]
    },
    {
     "name": "stderr",
     "output_type": "stream",
     "text": [
      "100%|████████████████████████████████████████████████████████████████████████████████████████████████| 1000/1000 [00:39<00:00, 25.21it/s]\n"
     ]
    },
    {
     "name": "stdout",
     "output_type": "stream",
     "text": [
      "{((1, 1, 1), (1, 1, 20)): ([965, 35], 0), ((1, 1, 1), (1, 10, 20)): ([997, 3], 0), ((1, 1, 1), (1, 20, 20)): ([997, 2], 1), ((1, 1, 1), (20, 20, 20)): ([999, 0], 1), ((10, 10, 10), (1, 1, 20)): ([20, 980], 0), ((10, 10, 10), (1, 10, 20)): ([161, 839], 0), ((10, 10, 10), (1, 20, 20)): ([297, 703], 0), ((10, 10, 10), (20, 20, 20)): ([895, 104], 1), ((20, 20, 20), (1, 1, 20)): ([1, 996], 3)}\n",
      "starting experiment: ((20, 20, 20), (1, 10, 20))\n"
     ]
    },
    {
     "name": "stderr",
     "output_type": "stream",
     "text": [
      "100%|████████████████████████████████████████████████████████████████████████████████████████████████| 1000/1000 [00:38<00:00, 25.85it/s]\n"
     ]
    },
    {
     "name": "stdout",
     "output_type": "stream",
     "text": [
      "{((1, 1, 1), (1, 1, 20)): ([965, 35], 0), ((1, 1, 1), (1, 10, 20)): ([997, 3], 0), ((1, 1, 1), (1, 20, 20)): ([997, 2], 1), ((1, 1, 1), (20, 20, 20)): ([999, 0], 1), ((10, 10, 10), (1, 1, 20)): ([20, 980], 0), ((10, 10, 10), (1, 10, 20)): ([161, 839], 0), ((10, 10, 10), (1, 20, 20)): ([297, 703], 0), ((10, 10, 10), (20, 20, 20)): ([895, 104], 1), ((20, 20, 20), (1, 1, 20)): ([1, 996], 3), ((20, 20, 20), (1, 10, 20)): ([16, 982], 2)}\n",
      "starting experiment: ((20, 20, 20), (1, 20, 20))\n"
     ]
    },
    {
     "name": "stderr",
     "output_type": "stream",
     "text": [
      "100%|████████████████████████████████████████████████████████████████████████████████████████████████| 1000/1000 [00:36<00:00, 27.71it/s]\n"
     ]
    },
    {
     "name": "stdout",
     "output_type": "stream",
     "text": [
      "{((1, 1, 1), (1, 1, 20)): ([965, 35], 0), ((1, 1, 1), (1, 10, 20)): ([997, 3], 0), ((1, 1, 1), (1, 20, 20)): ([997, 2], 1), ((1, 1, 1), (20, 20, 20)): ([999, 0], 1), ((10, 10, 10), (1, 1, 20)): ([20, 980], 0), ((10, 10, 10), (1, 10, 20)): ([161, 839], 0), ((10, 10, 10), (1, 20, 20)): ([297, 703], 0), ((10, 10, 10), (20, 20, 20)): ([895, 104], 1), ((20, 20, 20), (1, 1, 20)): ([1, 996], 3), ((20, 20, 20), (1, 10, 20)): ([16, 982], 2), ((20, 20, 20), (1, 20, 20)): ([50, 950], 0)}\n",
      "starting experiment: ((20, 20, 20), (20, 20, 20))\n"
     ]
    },
    {
     "name": "stderr",
     "output_type": "stream",
     "text": [
      "100%|████████████████████████████████████████████████████████████████████████████████████████████████| 1000/1000 [00:21<00:00, 45.65it/s]"
     ]
    },
    {
     "name": "stdout",
     "output_type": "stream",
     "text": [
      "{((1, 1, 1), (1, 1, 20)): ([965, 35], 0), ((1, 1, 1), (1, 10, 20)): ([997, 3], 0), ((1, 1, 1), (1, 20, 20)): ([997, 2], 1), ((1, 1, 1), (20, 20, 20)): ([999, 0], 1), ((10, 10, 10), (1, 1, 20)): ([20, 980], 0), ((10, 10, 10), (1, 10, 20)): ([161, 839], 0), ((10, 10, 10), (1, 20, 20)): ([297, 703], 0), ((10, 10, 10), (20, 20, 20)): ([895, 104], 1), ((20, 20, 20), (1, 1, 20)): ([1, 996], 3), ((20, 20, 20), (1, 10, 20)): ([16, 982], 2), ((20, 20, 20), (1, 20, 20)): ([50, 950], 0), ((20, 20, 20), (20, 20, 20)): ([513, 487], 0)}\n"
     ]
    },
    {
     "name": "stderr",
     "output_type": "stream",
     "text": [
      "\n"
     ]
    }
   ],
   "source": [
    "\"\"\"\n",
    "Two disjoint rectangles that don't overlap in any of the three dimensions\n",
    "\"\"\"\n",
    "N = 40\n",
    "trials = 1000\n",
    "buckets_per_level = 10\n",
    "level_gap = 5\n",
    "\n",
    "h_params = [(1,1,1), (10,10,10), (20,20,20)]\n",
    "k_params = [(1,1,20), (1,10,20), (1,20,20),(20,20,20)]\n",
    "\n",
    "results = {}\n",
    "\n",
    "for h, k in itertools.product(h_params, k_params):\n",
    "    \n",
    "    k1,k2,k3 = k\n",
    "    h1,h2,h3 = h\n",
    "    \n",
    "    print(f\"starting experiment: {h, k}\")\n",
    "\n",
    "    assert h1+k1 <= N and h2+k2 <= N and h3+k3 <= N\n",
    "\n",
    "    region1 = list(itertools.product(range(k1), range(k2), range(k3)))\n",
    "\n",
    "    rect2 = list(itertools.product(range(h1), range(h2), range(h3)))\n",
    "    region2 = [(k1+x,k2+y, k3+z) for x,y,z in rect2]\n",
    "\n",
    "    results[((k1,k2,k3), (h1,h2,h3))] = multi_region_experiment(N, \n",
    "                        [region1, region2], trials=trials, buckets_per_level = buckets_per_level, level_gap = level_gap)\n",
    "\n",
    "    print(results)"
   ]
  },
  {
   "cell_type": "code",
   "execution_count": 23,
   "metadata": {},
   "outputs": [
    {
     "data": {
      "text/plain": [
       "{((1, 1, 1), (1, 1, 20)): ([965, 35], 0),\n",
       " ((1, 1, 1), (1, 10, 20)): ([997, 3], 0),\n",
       " ((1, 1, 1), (1, 20, 20)): ([997, 2], 1),\n",
       " ((1, 1, 1), (20, 20, 20)): ([999, 0], 1),\n",
       " ((10, 10, 10), (1, 1, 20)): ([20, 980], 0),\n",
       " ((10, 10, 10), (1, 10, 20)): ([161, 839], 0),\n",
       " ((10, 10, 10), (1, 20, 20)): ([297, 703], 0),\n",
       " ((10, 10, 10), (20, 20, 20)): ([895, 104], 1),\n",
       " ((20, 20, 20), (1, 1, 20)): ([1, 996], 3),\n",
       " ((20, 20, 20), (1, 10, 20)): ([16, 982], 2),\n",
       " ((20, 20, 20), (1, 20, 20)): ([50, 950], 0),\n",
       " ((20, 20, 20), (20, 20, 20)): ([513, 487], 0)}"
      ]
     },
     "execution_count": 23,
     "metadata": {},
     "output_type": "execute_result"
    }
   ],
   "source": [
    "results"
   ]
  },
  {
   "cell_type": "code",
   "execution_count": 11,
   "metadata": {
    "colab": {
     "base_uri": "https://localhost:8080/"
    },
    "id": "nk3SJR3nETKA",
    "outputId": "7c8f560a-2b6e-4d58-e19b-c37f160fad27"
   },
   "outputs": [
    {
     "name": "stdout",
     "output_type": "stream",
     "text": [
      "Running experiment for k1:1, k2:1, k3:1\n",
      "Running experiment for k1:1, k2:1, k3:3\n",
      "Running experiment for k1:1, k2:1, k3:9\n",
      "Running experiment for k1:1, k2:1, k3:27\n",
      "Running experiment for k1:1, k2:3, k3:1\n",
      "Running experiment for k1:1, k2:3, k3:3\n",
      "Running experiment for k1:1, k2:3, k3:9\n",
      "Running experiment for k1:1, k2:3, k3:27\n"
     ]
    },
    {
     "name": "stderr",
     "output_type": "stream",
     "text": [
      "100%|████████████████████████████████████████████████████████████████████████████████████████████████| 1000/1000 [02:45<00:00,  6.06it/s]\n"
     ]
    },
    {
     "name": "stdout",
     "output_type": "stream",
     "text": [
      "{(1, 1, 1): ([468, 527], 5), (1, 1, 3): ([508, 492], 0), (1, 1, 9): ([522, 476], 2), (1, 1, 27): ([524, 476], 0), (1, 3, 1): ([519, 480], 1), (1, 3, 3): ([507, 489], 4), (1, 3, 9): ([499, 501], 0), (1, 9, 1): ([512, 485], 3), (1, 9, 3): ([509, 491], 0), (1, 9, 9): ([502, 498], 0), (3, 1, 1): ([489, 510], 1), (3, 1, 3): ([496, 503], 1), (3, 1, 9): ([523, 477], 0), (3, 3, 1): ([494, 506], 0), (3, 3, 3): ([527, 473], 0), (3, 3, 9): ([508, 492], 0), (3, 9, 1): ([512, 488], 0), (3, 9, 3): ([495, 505], 0), (3, 9, 9): ([506, 494], 0), (9, 1, 1): ([529, 470], 1), (9, 1, 3): ([497, 503], 0), (9, 1, 9): ([507, 493], 0), (9, 3, 1): ([507, 493], 0), (9, 3, 3): ([493, 507], 0), (9, 3, 9): ([532, 468], 0), (9, 9, 1): ([537, 463], 0), (9, 9, 3): ([504, 495], 1), (9, 9, 9): ([522, 477], 1), (1, 3, 27): ([486, 513], 1)}\n",
      "Running experiment for k1:1, k2:9, k3:1\n",
      "Running experiment for k1:1, k2:9, k3:3\n",
      "Running experiment for k1:1, k2:9, k3:9\n",
      "Running experiment for k1:1, k2:9, k3:27\n"
     ]
    },
    {
     "name": "stderr",
     "output_type": "stream",
     "text": [
      "100%|████████████████████████████████████████████████████████████████████████████████████████████████| 1000/1000 [02:06<00:00,  7.92it/s]\n"
     ]
    },
    {
     "name": "stdout",
     "output_type": "stream",
     "text": [
      "{(1, 1, 1): ([468, 527], 5), (1, 1, 3): ([508, 492], 0), (1, 1, 9): ([522, 476], 2), (1, 1, 27): ([524, 476], 0), (1, 3, 1): ([519, 480], 1), (1, 3, 3): ([507, 489], 4), (1, 3, 9): ([499, 501], 0), (1, 9, 1): ([512, 485], 3), (1, 9, 3): ([509, 491], 0), (1, 9, 9): ([502, 498], 0), (3, 1, 1): ([489, 510], 1), (3, 1, 3): ([496, 503], 1), (3, 1, 9): ([523, 477], 0), (3, 3, 1): ([494, 506], 0), (3, 3, 3): ([527, 473], 0), (3, 3, 9): ([508, 492], 0), (3, 9, 1): ([512, 488], 0), (3, 9, 3): ([495, 505], 0), (3, 9, 9): ([506, 494], 0), (9, 1, 1): ([529, 470], 1), (9, 1, 3): ([497, 503], 0), (9, 1, 9): ([507, 493], 0), (9, 3, 1): ([507, 493], 0), (9, 3, 3): ([493, 507], 0), (9, 3, 9): ([532, 468], 0), (9, 9, 1): ([537, 463], 0), (9, 9, 3): ([504, 495], 1), (9, 9, 9): ([522, 477], 1), (1, 3, 27): ([486, 513], 1), (1, 9, 27): ([503, 497], 0)}\n",
      "Running experiment for k1:1, k2:27, k3:1\n"
     ]
    },
    {
     "name": "stderr",
     "output_type": "stream",
     "text": [
      "100%|████████████████████████████████████████████████████████████████████████████████████████████████| 1000/1000 [02:55<00:00,  5.71it/s]\n"
     ]
    },
    {
     "name": "stdout",
     "output_type": "stream",
     "text": [
      "{(1, 1, 1): ([468, 527], 5), (1, 1, 3): ([508, 492], 0), (1, 1, 9): ([522, 476], 2), (1, 1, 27): ([524, 476], 0), (1, 3, 1): ([519, 480], 1), (1, 3, 3): ([507, 489], 4), (1, 3, 9): ([499, 501], 0), (1, 9, 1): ([512, 485], 3), (1, 9, 3): ([509, 491], 0), (1, 9, 9): ([502, 498], 0), (3, 1, 1): ([489, 510], 1), (3, 1, 3): ([496, 503], 1), (3, 1, 9): ([523, 477], 0), (3, 3, 1): ([494, 506], 0), (3, 3, 3): ([527, 473], 0), (3, 3, 9): ([508, 492], 0), (3, 9, 1): ([512, 488], 0), (3, 9, 3): ([495, 505], 0), (3, 9, 9): ([506, 494], 0), (9, 1, 1): ([529, 470], 1), (9, 1, 3): ([497, 503], 0), (9, 1, 9): ([507, 493], 0), (9, 3, 1): ([507, 493], 0), (9, 3, 3): ([493, 507], 0), (9, 3, 9): ([532, 468], 0), (9, 9, 1): ([537, 463], 0), (9, 9, 3): ([504, 495], 1), (9, 9, 9): ([522, 477], 1), (1, 3, 27): ([486, 513], 1), (1, 9, 27): ([503, 497], 0), (1, 27, 1): ([513, 487], 0)}\n",
      "Running experiment for k1:1, k2:27, k3:3\n"
     ]
    },
    {
     "name": "stderr",
     "output_type": "stream",
     "text": [
      "100%|████████████████████████████████████████████████████████████████████████████████████████████████| 1000/1000 [02:36<00:00,  6.39it/s]\n"
     ]
    },
    {
     "name": "stdout",
     "output_type": "stream",
     "text": [
      "{(1, 1, 1): ([468, 527], 5), (1, 1, 3): ([508, 492], 0), (1, 1, 9): ([522, 476], 2), (1, 1, 27): ([524, 476], 0), (1, 3, 1): ([519, 480], 1), (1, 3, 3): ([507, 489], 4), (1, 3, 9): ([499, 501], 0), (1, 9, 1): ([512, 485], 3), (1, 9, 3): ([509, 491], 0), (1, 9, 9): ([502, 498], 0), (3, 1, 1): ([489, 510], 1), (3, 1, 3): ([496, 503], 1), (3, 1, 9): ([523, 477], 0), (3, 3, 1): ([494, 506], 0), (3, 3, 3): ([527, 473], 0), (3, 3, 9): ([508, 492], 0), (3, 9, 1): ([512, 488], 0), (3, 9, 3): ([495, 505], 0), (3, 9, 9): ([506, 494], 0), (9, 1, 1): ([529, 470], 1), (9, 1, 3): ([497, 503], 0), (9, 1, 9): ([507, 493], 0), (9, 3, 1): ([507, 493], 0), (9, 3, 3): ([493, 507], 0), (9, 3, 9): ([532, 468], 0), (9, 9, 1): ([537, 463], 0), (9, 9, 3): ([504, 495], 1), (9, 9, 9): ([522, 477], 1), (1, 3, 27): ([486, 513], 1), (1, 9, 27): ([503, 497], 0), (1, 27, 1): ([513, 487], 0), (1, 27, 3): ([501, 499], 0)}\n",
      "Running experiment for k1:1, k2:27, k3:9\n"
     ]
    },
    {
     "name": "stderr",
     "output_type": "stream",
     "text": [
      "100%|████████████████████████████████████████████████████████████████████████████████████████████████| 1000/1000 [02:04<00:00,  8.03it/s]\n"
     ]
    },
    {
     "name": "stdout",
     "output_type": "stream",
     "text": [
      "{(1, 1, 1): ([468, 527], 5), (1, 1, 3): ([508, 492], 0), (1, 1, 9): ([522, 476], 2), (1, 1, 27): ([524, 476], 0), (1, 3, 1): ([519, 480], 1), (1, 3, 3): ([507, 489], 4), (1, 3, 9): ([499, 501], 0), (1, 9, 1): ([512, 485], 3), (1, 9, 3): ([509, 491], 0), (1, 9, 9): ([502, 498], 0), (3, 1, 1): ([489, 510], 1), (3, 1, 3): ([496, 503], 1), (3, 1, 9): ([523, 477], 0), (3, 3, 1): ([494, 506], 0), (3, 3, 3): ([527, 473], 0), (3, 3, 9): ([508, 492], 0), (3, 9, 1): ([512, 488], 0), (3, 9, 3): ([495, 505], 0), (3, 9, 9): ([506, 494], 0), (9, 1, 1): ([529, 470], 1), (9, 1, 3): ([497, 503], 0), (9, 1, 9): ([507, 493], 0), (9, 3, 1): ([507, 493], 0), (9, 3, 3): ([493, 507], 0), (9, 3, 9): ([532, 468], 0), (9, 9, 1): ([537, 463], 0), (9, 9, 3): ([504, 495], 1), (9, 9, 9): ([522, 477], 1), (1, 3, 27): ([486, 513], 1), (1, 9, 27): ([503, 497], 0), (1, 27, 1): ([513, 487], 0), (1, 27, 3): ([501, 499], 0), (1, 27, 9): ([504, 496], 0)}\n",
      "Running experiment for k1:1, k2:27, k3:27\n"
     ]
    },
    {
     "name": "stderr",
     "output_type": "stream",
     "text": [
      "100%|████████████████████████████████████████████████████████████████████████████████████████████████| 1000/1000 [01:28<00:00, 11.31it/s]\n"
     ]
    },
    {
     "name": "stdout",
     "output_type": "stream",
     "text": [
      "{(1, 1, 1): ([468, 527], 5), (1, 1, 3): ([508, 492], 0), (1, 1, 9): ([522, 476], 2), (1, 1, 27): ([524, 476], 0), (1, 3, 1): ([519, 480], 1), (1, 3, 3): ([507, 489], 4), (1, 3, 9): ([499, 501], 0), (1, 9, 1): ([512, 485], 3), (1, 9, 3): ([509, 491], 0), (1, 9, 9): ([502, 498], 0), (3, 1, 1): ([489, 510], 1), (3, 1, 3): ([496, 503], 1), (3, 1, 9): ([523, 477], 0), (3, 3, 1): ([494, 506], 0), (3, 3, 3): ([527, 473], 0), (3, 3, 9): ([508, 492], 0), (3, 9, 1): ([512, 488], 0), (3, 9, 3): ([495, 505], 0), (3, 9, 9): ([506, 494], 0), (9, 1, 1): ([529, 470], 1), (9, 1, 3): ([497, 503], 0), (9, 1, 9): ([507, 493], 0), (9, 3, 1): ([507, 493], 0), (9, 3, 3): ([493, 507], 0), (9, 3, 9): ([532, 468], 0), (9, 9, 1): ([537, 463], 0), (9, 9, 3): ([504, 495], 1), (9, 9, 9): ([522, 477], 1), (1, 3, 27): ([486, 513], 1), (1, 9, 27): ([503, 497], 0), (1, 27, 1): ([513, 487], 0), (1, 27, 3): ([501, 499], 0), (1, 27, 9): ([504, 496], 0), (1, 27, 27): ([481, 519], 0)}\n",
      "Running experiment for k1:3, k2:1, k3:1\n",
      "Running experiment for k1:3, k2:1, k3:3\n",
      "Running experiment for k1:3, k2:1, k3:9\n",
      "Running experiment for k1:3, k2:1, k3:27\n"
     ]
    },
    {
     "name": "stderr",
     "output_type": "stream",
     "text": [
      "100%|████████████████████████████████████████████████████████████████████████████████████████████████| 1000/1000 [02:44<00:00,  6.06it/s]\n"
     ]
    },
    {
     "name": "stdout",
     "output_type": "stream",
     "text": [
      "{(1, 1, 1): ([468, 527], 5), (1, 1, 3): ([508, 492], 0), (1, 1, 9): ([522, 476], 2), (1, 1, 27): ([524, 476], 0), (1, 3, 1): ([519, 480], 1), (1, 3, 3): ([507, 489], 4), (1, 3, 9): ([499, 501], 0), (1, 9, 1): ([512, 485], 3), (1, 9, 3): ([509, 491], 0), (1, 9, 9): ([502, 498], 0), (3, 1, 1): ([489, 510], 1), (3, 1, 3): ([496, 503], 1), (3, 1, 9): ([523, 477], 0), (3, 3, 1): ([494, 506], 0), (3, 3, 3): ([527, 473], 0), (3, 3, 9): ([508, 492], 0), (3, 9, 1): ([512, 488], 0), (3, 9, 3): ([495, 505], 0), (3, 9, 9): ([506, 494], 0), (9, 1, 1): ([529, 470], 1), (9, 1, 3): ([497, 503], 0), (9, 1, 9): ([507, 493], 0), (9, 3, 1): ([507, 493], 0), (9, 3, 3): ([493, 507], 0), (9, 3, 9): ([532, 468], 0), (9, 9, 1): ([537, 463], 0), (9, 9, 3): ([504, 495], 1), (9, 9, 9): ([522, 477], 1), (1, 3, 27): ([486, 513], 1), (1, 9, 27): ([503, 497], 0), (1, 27, 1): ([513, 487], 0), (1, 27, 3): ([501, 499], 0), (1, 27, 9): ([504, 496], 0), (1, 27, 27): ([481, 519], 0), (3, 1, 27): ([516, 483], 1)}\n",
      "Running experiment for k1:3, k2:3, k3:1\n",
      "Running experiment for k1:3, k2:3, k3:3\n",
      "Running experiment for k1:3, k2:3, k3:9\n",
      "Running experiment for k1:3, k2:3, k3:27\n"
     ]
    },
    {
     "name": "stderr",
     "output_type": "stream",
     "text": [
      "100%|████████████████████████████████████████████████████████████████████████████████████████████████| 1000/1000 [02:27<00:00,  6.77it/s]\n"
     ]
    },
    {
     "name": "stdout",
     "output_type": "stream",
     "text": [
      "{(1, 1, 1): ([468, 527], 5), (1, 1, 3): ([508, 492], 0), (1, 1, 9): ([522, 476], 2), (1, 1, 27): ([524, 476], 0), (1, 3, 1): ([519, 480], 1), (1, 3, 3): ([507, 489], 4), (1, 3, 9): ([499, 501], 0), (1, 9, 1): ([512, 485], 3), (1, 9, 3): ([509, 491], 0), (1, 9, 9): ([502, 498], 0), (3, 1, 1): ([489, 510], 1), (3, 1, 3): ([496, 503], 1), (3, 1, 9): ([523, 477], 0), (3, 3, 1): ([494, 506], 0), (3, 3, 3): ([527, 473], 0), (3, 3, 9): ([508, 492], 0), (3, 9, 1): ([512, 488], 0), (3, 9, 3): ([495, 505], 0), (3, 9, 9): ([506, 494], 0), (9, 1, 1): ([529, 470], 1), (9, 1, 3): ([497, 503], 0), (9, 1, 9): ([507, 493], 0), (9, 3, 1): ([507, 493], 0), (9, 3, 3): ([493, 507], 0), (9, 3, 9): ([532, 468], 0), (9, 9, 1): ([537, 463], 0), (9, 9, 3): ([504, 495], 1), (9, 9, 9): ([522, 477], 1), (1, 3, 27): ([486, 513], 1), (1, 9, 27): ([503, 497], 0), (1, 27, 1): ([513, 487], 0), (1, 27, 3): ([501, 499], 0), (1, 27, 9): ([504, 496], 0), (1, 27, 27): ([481, 519], 0), (3, 1, 27): ([516, 483], 1), (3, 3, 27): ([510, 489], 1)}\n",
      "Running experiment for k1:3, k2:9, k3:1\n",
      "Running experiment for k1:3, k2:9, k3:3\n",
      "Running experiment for k1:3, k2:9, k3:9\n",
      "Running experiment for k1:3, k2:9, k3:27\n"
     ]
    },
    {
     "name": "stderr",
     "output_type": "stream",
     "text": [
      "100%|████████████████████████████████████████████████████████████████████████████████████████████████| 1000/1000 [01:41<00:00,  9.84it/s]\n"
     ]
    },
    {
     "name": "stdout",
     "output_type": "stream",
     "text": [
      "{(1, 1, 1): ([468, 527], 5), (1, 1, 3): ([508, 492], 0), (1, 1, 9): ([522, 476], 2), (1, 1, 27): ([524, 476], 0), (1, 3, 1): ([519, 480], 1), (1, 3, 3): ([507, 489], 4), (1, 3, 9): ([499, 501], 0), (1, 9, 1): ([512, 485], 3), (1, 9, 3): ([509, 491], 0), (1, 9, 9): ([502, 498], 0), (3, 1, 1): ([489, 510], 1), (3, 1, 3): ([496, 503], 1), (3, 1, 9): ([523, 477], 0), (3, 3, 1): ([494, 506], 0), (3, 3, 3): ([527, 473], 0), (3, 3, 9): ([508, 492], 0), (3, 9, 1): ([512, 488], 0), (3, 9, 3): ([495, 505], 0), (3, 9, 9): ([506, 494], 0), (9, 1, 1): ([529, 470], 1), (9, 1, 3): ([497, 503], 0), (9, 1, 9): ([507, 493], 0), (9, 3, 1): ([507, 493], 0), (9, 3, 3): ([493, 507], 0), (9, 3, 9): ([532, 468], 0), (9, 9, 1): ([537, 463], 0), (9, 9, 3): ([504, 495], 1), (9, 9, 9): ([522, 477], 1), (1, 3, 27): ([486, 513], 1), (1, 9, 27): ([503, 497], 0), (1, 27, 1): ([513, 487], 0), (1, 27, 3): ([501, 499], 0), (1, 27, 9): ([504, 496], 0), (1, 27, 27): ([481, 519], 0), (3, 1, 27): ([516, 483], 1), (3, 3, 27): ([510, 489], 1), (3, 9, 27): ([525, 475], 0)}\n",
      "Running experiment for k1:3, k2:27, k3:1\n"
     ]
    },
    {
     "name": "stderr",
     "output_type": "stream",
     "text": [
      "100%|████████████████████████████████████████████████████████████████████████████████████████████████| 1000/1000 [02:55<00:00,  5.70it/s]\n"
     ]
    },
    {
     "name": "stdout",
     "output_type": "stream",
     "text": [
      "{(1, 1, 1): ([468, 527], 5), (1, 1, 3): ([508, 492], 0), (1, 1, 9): ([522, 476], 2), (1, 1, 27): ([524, 476], 0), (1, 3, 1): ([519, 480], 1), (1, 3, 3): ([507, 489], 4), (1, 3, 9): ([499, 501], 0), (1, 9, 1): ([512, 485], 3), (1, 9, 3): ([509, 491], 0), (1, 9, 9): ([502, 498], 0), (3, 1, 1): ([489, 510], 1), (3, 1, 3): ([496, 503], 1), (3, 1, 9): ([523, 477], 0), (3, 3, 1): ([494, 506], 0), (3, 3, 3): ([527, 473], 0), (3, 3, 9): ([508, 492], 0), (3, 9, 1): ([512, 488], 0), (3, 9, 3): ([495, 505], 0), (3, 9, 9): ([506, 494], 0), (9, 1, 1): ([529, 470], 1), (9, 1, 3): ([497, 503], 0), (9, 1, 9): ([507, 493], 0), (9, 3, 1): ([507, 493], 0), (9, 3, 3): ([493, 507], 0), (9, 3, 9): ([532, 468], 0), (9, 9, 1): ([537, 463], 0), (9, 9, 3): ([504, 495], 1), (9, 9, 9): ([522, 477], 1), (1, 3, 27): ([486, 513], 1), (1, 9, 27): ([503, 497], 0), (1, 27, 1): ([513, 487], 0), (1, 27, 3): ([501, 499], 0), (1, 27, 9): ([504, 496], 0), (1, 27, 27): ([481, 519], 0), (3, 1, 27): ([516, 483], 1), (3, 3, 27): ([510, 489], 1), (3, 9, 27): ([525, 475], 0), (3, 27, 1): ([514, 486], 0)}\n",
      "Running experiment for k1:3, k2:27, k3:3\n"
     ]
    },
    {
     "name": "stderr",
     "output_type": "stream",
     "text": [
      "100%|████████████████████████████████████████████████████████████████████████████████████████████████| 1000/1000 [02:29<00:00,  6.68it/s]\n"
     ]
    },
    {
     "name": "stdout",
     "output_type": "stream",
     "text": [
      "{(1, 1, 1): ([468, 527], 5), (1, 1, 3): ([508, 492], 0), (1, 1, 9): ([522, 476], 2), (1, 1, 27): ([524, 476], 0), (1, 3, 1): ([519, 480], 1), (1, 3, 3): ([507, 489], 4), (1, 3, 9): ([499, 501], 0), (1, 9, 1): ([512, 485], 3), (1, 9, 3): ([509, 491], 0), (1, 9, 9): ([502, 498], 0), (3, 1, 1): ([489, 510], 1), (3, 1, 3): ([496, 503], 1), (3, 1, 9): ([523, 477], 0), (3, 3, 1): ([494, 506], 0), (3, 3, 3): ([527, 473], 0), (3, 3, 9): ([508, 492], 0), (3, 9, 1): ([512, 488], 0), (3, 9, 3): ([495, 505], 0), (3, 9, 9): ([506, 494], 0), (9, 1, 1): ([529, 470], 1), (9, 1, 3): ([497, 503], 0), (9, 1, 9): ([507, 493], 0), (9, 3, 1): ([507, 493], 0), (9, 3, 3): ([493, 507], 0), (9, 3, 9): ([532, 468], 0), (9, 9, 1): ([537, 463], 0), (9, 9, 3): ([504, 495], 1), (9, 9, 9): ([522, 477], 1), (1, 3, 27): ([486, 513], 1), (1, 9, 27): ([503, 497], 0), (1, 27, 1): ([513, 487], 0), (1, 27, 3): ([501, 499], 0), (1, 27, 9): ([504, 496], 0), (1, 27, 27): ([481, 519], 0), (3, 1, 27): ([516, 483], 1), (3, 3, 27): ([510, 489], 1), (3, 9, 27): ([525, 475], 0), (3, 27, 1): ([514, 486], 0), (3, 27, 3): ([502, 498], 0)}\n",
      "Running experiment for k1:3, k2:27, k3:9\n"
     ]
    },
    {
     "name": "stderr",
     "output_type": "stream",
     "text": [
      "100%|████████████████████████████████████████████████████████████████████████████████████████████████| 1000/1000 [01:31<00:00, 10.97it/s]\n"
     ]
    },
    {
     "name": "stdout",
     "output_type": "stream",
     "text": [
      "{(1, 1, 1): ([468, 527], 5), (1, 1, 3): ([508, 492], 0), (1, 1, 9): ([522, 476], 2), (1, 1, 27): ([524, 476], 0), (1, 3, 1): ([519, 480], 1), (1, 3, 3): ([507, 489], 4), (1, 3, 9): ([499, 501], 0), (1, 9, 1): ([512, 485], 3), (1, 9, 3): ([509, 491], 0), (1, 9, 9): ([502, 498], 0), (3, 1, 1): ([489, 510], 1), (3, 1, 3): ([496, 503], 1), (3, 1, 9): ([523, 477], 0), (3, 3, 1): ([494, 506], 0), (3, 3, 3): ([527, 473], 0), (3, 3, 9): ([508, 492], 0), (3, 9, 1): ([512, 488], 0), (3, 9, 3): ([495, 505], 0), (3, 9, 9): ([506, 494], 0), (9, 1, 1): ([529, 470], 1), (9, 1, 3): ([497, 503], 0), (9, 1, 9): ([507, 493], 0), (9, 3, 1): ([507, 493], 0), (9, 3, 3): ([493, 507], 0), (9, 3, 9): ([532, 468], 0), (9, 9, 1): ([537, 463], 0), (9, 9, 3): ([504, 495], 1), (9, 9, 9): ([522, 477], 1), (1, 3, 27): ([486, 513], 1), (1, 9, 27): ([503, 497], 0), (1, 27, 1): ([513, 487], 0), (1, 27, 3): ([501, 499], 0), (1, 27, 9): ([504, 496], 0), (1, 27, 27): ([481, 519], 0), (3, 1, 27): ([516, 483], 1), (3, 3, 27): ([510, 489], 1), (3, 9, 27): ([525, 475], 0), (3, 27, 1): ([514, 486], 0), (3, 27, 3): ([502, 498], 0), (3, 27, 9): ([527, 471], 2)}\n",
      "Running experiment for k1:3, k2:27, k3:27\n"
     ]
    },
    {
     "name": "stderr",
     "output_type": "stream",
     "text": [
      "100%|████████████████████████████████████████████████████████████████████████████████████████████████| 1000/1000 [01:08<00:00, 14.59it/s]\n"
     ]
    },
    {
     "name": "stdout",
     "output_type": "stream",
     "text": [
      "{(1, 1, 1): ([468, 527], 5), (1, 1, 3): ([508, 492], 0), (1, 1, 9): ([522, 476], 2), (1, 1, 27): ([524, 476], 0), (1, 3, 1): ([519, 480], 1), (1, 3, 3): ([507, 489], 4), (1, 3, 9): ([499, 501], 0), (1, 9, 1): ([512, 485], 3), (1, 9, 3): ([509, 491], 0), (1, 9, 9): ([502, 498], 0), (3, 1, 1): ([489, 510], 1), (3, 1, 3): ([496, 503], 1), (3, 1, 9): ([523, 477], 0), (3, 3, 1): ([494, 506], 0), (3, 3, 3): ([527, 473], 0), (3, 3, 9): ([508, 492], 0), (3, 9, 1): ([512, 488], 0), (3, 9, 3): ([495, 505], 0), (3, 9, 9): ([506, 494], 0), (9, 1, 1): ([529, 470], 1), (9, 1, 3): ([497, 503], 0), (9, 1, 9): ([507, 493], 0), (9, 3, 1): ([507, 493], 0), (9, 3, 3): ([493, 507], 0), (9, 3, 9): ([532, 468], 0), (9, 9, 1): ([537, 463], 0), (9, 9, 3): ([504, 495], 1), (9, 9, 9): ([522, 477], 1), (1, 3, 27): ([486, 513], 1), (1, 9, 27): ([503, 497], 0), (1, 27, 1): ([513, 487], 0), (1, 27, 3): ([501, 499], 0), (1, 27, 9): ([504, 496], 0), (1, 27, 27): ([481, 519], 0), (3, 1, 27): ([516, 483], 1), (3, 3, 27): ([510, 489], 1), (3, 9, 27): ([525, 475], 0), (3, 27, 1): ([514, 486], 0), (3, 27, 3): ([502, 498], 0), (3, 27, 9): ([527, 471], 2), (3, 27, 27): ([470, 527], 3)}\n",
      "Running experiment for k1:9, k2:1, k3:1\n",
      "Running experiment for k1:9, k2:1, k3:3\n",
      "Running experiment for k1:9, k2:1, k3:9\n",
      "Running experiment for k1:9, k2:1, k3:27\n"
     ]
    },
    {
     "name": "stderr",
     "output_type": "stream",
     "text": [
      "100%|████████████████████████████████████████████████████████████████████████████████████████████████| 1000/1000 [02:21<00:00,  7.05it/s]\n"
     ]
    },
    {
     "name": "stdout",
     "output_type": "stream",
     "text": [
      "{(1, 1, 1): ([468, 527], 5), (1, 1, 3): ([508, 492], 0), (1, 1, 9): ([522, 476], 2), (1, 1, 27): ([524, 476], 0), (1, 3, 1): ([519, 480], 1), (1, 3, 3): ([507, 489], 4), (1, 3, 9): ([499, 501], 0), (1, 9, 1): ([512, 485], 3), (1, 9, 3): ([509, 491], 0), (1, 9, 9): ([502, 498], 0), (3, 1, 1): ([489, 510], 1), (3, 1, 3): ([496, 503], 1), (3, 1, 9): ([523, 477], 0), (3, 3, 1): ([494, 506], 0), (3, 3, 3): ([527, 473], 0), (3, 3, 9): ([508, 492], 0), (3, 9, 1): ([512, 488], 0), (3, 9, 3): ([495, 505], 0), (3, 9, 9): ([506, 494], 0), (9, 1, 1): ([529, 470], 1), (9, 1, 3): ([497, 503], 0), (9, 1, 9): ([507, 493], 0), (9, 3, 1): ([507, 493], 0), (9, 3, 3): ([493, 507], 0), (9, 3, 9): ([532, 468], 0), (9, 9, 1): ([537, 463], 0), (9, 9, 3): ([504, 495], 1), (9, 9, 9): ([522, 477], 1), (1, 3, 27): ([486, 513], 1), (1, 9, 27): ([503, 497], 0), (1, 27, 1): ([513, 487], 0), (1, 27, 3): ([501, 499], 0), (1, 27, 9): ([504, 496], 0), (1, 27, 27): ([481, 519], 0), (3, 1, 27): ([516, 483], 1), (3, 3, 27): ([510, 489], 1), (3, 9, 27): ([525, 475], 0), (3, 27, 1): ([514, 486], 0), (3, 27, 3): ([502, 498], 0), (3, 27, 9): ([527, 471], 2), (3, 27, 27): ([470, 527], 3), (9, 1, 27): ([479, 520], 1)}\n",
      "Running experiment for k1:9, k2:3, k3:1\n",
      "Running experiment for k1:9, k2:3, k3:3\n",
      "Running experiment for k1:9, k2:3, k3:9\n",
      "Running experiment for k1:9, k2:3, k3:27\n"
     ]
    },
    {
     "name": "stderr",
     "output_type": "stream",
     "text": [
      "100%|████████████████████████████████████████████████████████████████████████████████████████████████| 1000/1000 [01:33<00:00, 10.71it/s]\n"
     ]
    },
    {
     "name": "stdout",
     "output_type": "stream",
     "text": [
      "{(1, 1, 1): ([468, 527], 5), (1, 1, 3): ([508, 492], 0), (1, 1, 9): ([522, 476], 2), (1, 1, 27): ([524, 476], 0), (1, 3, 1): ([519, 480], 1), (1, 3, 3): ([507, 489], 4), (1, 3, 9): ([499, 501], 0), (1, 9, 1): ([512, 485], 3), (1, 9, 3): ([509, 491], 0), (1, 9, 9): ([502, 498], 0), (3, 1, 1): ([489, 510], 1), (3, 1, 3): ([496, 503], 1), (3, 1, 9): ([523, 477], 0), (3, 3, 1): ([494, 506], 0), (3, 3, 3): ([527, 473], 0), (3, 3, 9): ([508, 492], 0), (3, 9, 1): ([512, 488], 0), (3, 9, 3): ([495, 505], 0), (3, 9, 9): ([506, 494], 0), (9, 1, 1): ([529, 470], 1), (9, 1, 3): ([497, 503], 0), (9, 1, 9): ([507, 493], 0), (9, 3, 1): ([507, 493], 0), (9, 3, 3): ([493, 507], 0), (9, 3, 9): ([532, 468], 0), (9, 9, 1): ([537, 463], 0), (9, 9, 3): ([504, 495], 1), (9, 9, 9): ([522, 477], 1), (1, 3, 27): ([486, 513], 1), (1, 9, 27): ([503, 497], 0), (1, 27, 1): ([513, 487], 0), (1, 27, 3): ([501, 499], 0), (1, 27, 9): ([504, 496], 0), (1, 27, 27): ([481, 519], 0), (3, 1, 27): ([516, 483], 1), (3, 3, 27): ([510, 489], 1), (3, 9, 27): ([525, 475], 0), (3, 27, 1): ([514, 486], 0), (3, 27, 3): ([502, 498], 0), (3, 27, 9): ([527, 471], 2), (3, 27, 27): ([470, 527], 3), (9, 1, 27): ([479, 520], 1), (9, 3, 27): ([526, 474], 0)}\n",
      "Running experiment for k1:9, k2:9, k3:1\n",
      "Running experiment for k1:9, k2:9, k3:3\n",
      "Running experiment for k1:9, k2:9, k3:9\n",
      "Running experiment for k1:9, k2:9, k3:27\n"
     ]
    },
    {
     "name": "stderr",
     "output_type": "stream",
     "text": [
      "100%|████████████████████████████████████████████████████████████████████████████████████████████████| 1000/1000 [00:58<00:00, 17.16it/s]\n"
     ]
    },
    {
     "name": "stdout",
     "output_type": "stream",
     "text": [
      "{(1, 1, 1): ([468, 527], 5), (1, 1, 3): ([508, 492], 0), (1, 1, 9): ([522, 476], 2), (1, 1, 27): ([524, 476], 0), (1, 3, 1): ([519, 480], 1), (1, 3, 3): ([507, 489], 4), (1, 3, 9): ([499, 501], 0), (1, 9, 1): ([512, 485], 3), (1, 9, 3): ([509, 491], 0), (1, 9, 9): ([502, 498], 0), (3, 1, 1): ([489, 510], 1), (3, 1, 3): ([496, 503], 1), (3, 1, 9): ([523, 477], 0), (3, 3, 1): ([494, 506], 0), (3, 3, 3): ([527, 473], 0), (3, 3, 9): ([508, 492], 0), (3, 9, 1): ([512, 488], 0), (3, 9, 3): ([495, 505], 0), (3, 9, 9): ([506, 494], 0), (9, 1, 1): ([529, 470], 1), (9, 1, 3): ([497, 503], 0), (9, 1, 9): ([507, 493], 0), (9, 3, 1): ([507, 493], 0), (9, 3, 3): ([493, 507], 0), (9, 3, 9): ([532, 468], 0), (9, 9, 1): ([537, 463], 0), (9, 9, 3): ([504, 495], 1), (9, 9, 9): ([522, 477], 1), (1, 3, 27): ([486, 513], 1), (1, 9, 27): ([503, 497], 0), (1, 27, 1): ([513, 487], 0), (1, 27, 3): ([501, 499], 0), (1, 27, 9): ([504, 496], 0), (1, 27, 27): ([481, 519], 0), (3, 1, 27): ([516, 483], 1), (3, 3, 27): ([510, 489], 1), (3, 9, 27): ([525, 475], 0), (3, 27, 1): ([514, 486], 0), (3, 27, 3): ([502, 498], 0), (3, 27, 9): ([527, 471], 2), (3, 27, 27): ([470, 527], 3), (9, 1, 27): ([479, 520], 1), (9, 3, 27): ([526, 474], 0), (9, 9, 27): ([507, 492], 1)}\n",
      "Running experiment for k1:9, k2:27, k3:1\n"
     ]
    },
    {
     "name": "stderr",
     "output_type": "stream",
     "text": [
      "100%|████████████████████████████████████████████████████████████████████████████████████████████████| 1000/1000 [02:10<00:00,  7.64it/s]\n"
     ]
    },
    {
     "name": "stdout",
     "output_type": "stream",
     "text": [
      "{(1, 1, 1): ([468, 527], 5), (1, 1, 3): ([508, 492], 0), (1, 1, 9): ([522, 476], 2), (1, 1, 27): ([524, 476], 0), (1, 3, 1): ([519, 480], 1), (1, 3, 3): ([507, 489], 4), (1, 3, 9): ([499, 501], 0), (1, 9, 1): ([512, 485], 3), (1, 9, 3): ([509, 491], 0), (1, 9, 9): ([502, 498], 0), (3, 1, 1): ([489, 510], 1), (3, 1, 3): ([496, 503], 1), (3, 1, 9): ([523, 477], 0), (3, 3, 1): ([494, 506], 0), (3, 3, 3): ([527, 473], 0), (3, 3, 9): ([508, 492], 0), (3, 9, 1): ([512, 488], 0), (3, 9, 3): ([495, 505], 0), (3, 9, 9): ([506, 494], 0), (9, 1, 1): ([529, 470], 1), (9, 1, 3): ([497, 503], 0), (9, 1, 9): ([507, 493], 0), (9, 3, 1): ([507, 493], 0), (9, 3, 3): ([493, 507], 0), (9, 3, 9): ([532, 468], 0), (9, 9, 1): ([537, 463], 0), (9, 9, 3): ([504, 495], 1), (9, 9, 9): ([522, 477], 1), (1, 3, 27): ([486, 513], 1), (1, 9, 27): ([503, 497], 0), (1, 27, 1): ([513, 487], 0), (1, 27, 3): ([501, 499], 0), (1, 27, 9): ([504, 496], 0), (1, 27, 27): ([481, 519], 0), (3, 1, 27): ([516, 483], 1), (3, 3, 27): ([510, 489], 1), (3, 9, 27): ([525, 475], 0), (3, 27, 1): ([514, 486], 0), (3, 27, 3): ([502, 498], 0), (3, 27, 9): ([527, 471], 2), (3, 27, 27): ([470, 527], 3), (9, 1, 27): ([479, 520], 1), (9, 3, 27): ([526, 474], 0), (9, 9, 27): ([507, 492], 1), (9, 27, 1): ([499, 500], 1)}\n",
      "Running experiment for k1:9, k2:27, k3:3\n"
     ]
    },
    {
     "name": "stderr",
     "output_type": "stream",
     "text": [
      "100%|████████████████████████████████████████████████████████████████████████████████████████████████| 1000/1000 [01:40<00:00,  9.94it/s]\n"
     ]
    },
    {
     "name": "stdout",
     "output_type": "stream",
     "text": [
      "{(1, 1, 1): ([468, 527], 5), (1, 1, 3): ([508, 492], 0), (1, 1, 9): ([522, 476], 2), (1, 1, 27): ([524, 476], 0), (1, 3, 1): ([519, 480], 1), (1, 3, 3): ([507, 489], 4), (1, 3, 9): ([499, 501], 0), (1, 9, 1): ([512, 485], 3), (1, 9, 3): ([509, 491], 0), (1, 9, 9): ([502, 498], 0), (3, 1, 1): ([489, 510], 1), (3, 1, 3): ([496, 503], 1), (3, 1, 9): ([523, 477], 0), (3, 3, 1): ([494, 506], 0), (3, 3, 3): ([527, 473], 0), (3, 3, 9): ([508, 492], 0), (3, 9, 1): ([512, 488], 0), (3, 9, 3): ([495, 505], 0), (3, 9, 9): ([506, 494], 0), (9, 1, 1): ([529, 470], 1), (9, 1, 3): ([497, 503], 0), (9, 1, 9): ([507, 493], 0), (9, 3, 1): ([507, 493], 0), (9, 3, 3): ([493, 507], 0), (9, 3, 9): ([532, 468], 0), (9, 9, 1): ([537, 463], 0), (9, 9, 3): ([504, 495], 1), (9, 9, 9): ([522, 477], 1), (1, 3, 27): ([486, 513], 1), (1, 9, 27): ([503, 497], 0), (1, 27, 1): ([513, 487], 0), (1, 27, 3): ([501, 499], 0), (1, 27, 9): ([504, 496], 0), (1, 27, 27): ([481, 519], 0), (3, 1, 27): ([516, 483], 1), (3, 3, 27): ([510, 489], 1), (3, 9, 27): ([525, 475], 0), (3, 27, 1): ([514, 486], 0), (3, 27, 3): ([502, 498], 0), (3, 27, 9): ([527, 471], 2), (3, 27, 27): ([470, 527], 3), (9, 1, 27): ([479, 520], 1), (9, 3, 27): ([526, 474], 0), (9, 9, 27): ([507, 492], 1), (9, 27, 1): ([499, 500], 1), (9, 27, 3): ([465, 534], 1)}\n",
      "Running experiment for k1:9, k2:27, k3:9\n"
     ]
    },
    {
     "name": "stderr",
     "output_type": "stream",
     "text": [
      "100%|████████████████████████████████████████████████████████████████████████████████████████████████| 1000/1000 [01:03<00:00, 15.78it/s]\n"
     ]
    },
    {
     "name": "stdout",
     "output_type": "stream",
     "text": [
      "{(1, 1, 1): ([468, 527], 5), (1, 1, 3): ([508, 492], 0), (1, 1, 9): ([522, 476], 2), (1, 1, 27): ([524, 476], 0), (1, 3, 1): ([519, 480], 1), (1, 3, 3): ([507, 489], 4), (1, 3, 9): ([499, 501], 0), (1, 9, 1): ([512, 485], 3), (1, 9, 3): ([509, 491], 0), (1, 9, 9): ([502, 498], 0), (3, 1, 1): ([489, 510], 1), (3, 1, 3): ([496, 503], 1), (3, 1, 9): ([523, 477], 0), (3, 3, 1): ([494, 506], 0), (3, 3, 3): ([527, 473], 0), (3, 3, 9): ([508, 492], 0), (3, 9, 1): ([512, 488], 0), (3, 9, 3): ([495, 505], 0), (3, 9, 9): ([506, 494], 0), (9, 1, 1): ([529, 470], 1), (9, 1, 3): ([497, 503], 0), (9, 1, 9): ([507, 493], 0), (9, 3, 1): ([507, 493], 0), (9, 3, 3): ([493, 507], 0), (9, 3, 9): ([532, 468], 0), (9, 9, 1): ([537, 463], 0), (9, 9, 3): ([504, 495], 1), (9, 9, 9): ([522, 477], 1), (1, 3, 27): ([486, 513], 1), (1, 9, 27): ([503, 497], 0), (1, 27, 1): ([513, 487], 0), (1, 27, 3): ([501, 499], 0), (1, 27, 9): ([504, 496], 0), (1, 27, 27): ([481, 519], 0), (3, 1, 27): ([516, 483], 1), (3, 3, 27): ([510, 489], 1), (3, 9, 27): ([525, 475], 0), (3, 27, 1): ([514, 486], 0), (3, 27, 3): ([502, 498], 0), (3, 27, 9): ([527, 471], 2), (3, 27, 27): ([470, 527], 3), (9, 1, 27): ([479, 520], 1), (9, 3, 27): ([526, 474], 0), (9, 9, 27): ([507, 492], 1), (9, 27, 1): ([499, 500], 1), (9, 27, 3): ([465, 534], 1), (9, 27, 9): ([495, 504], 1)}\n",
      "Running experiment for k1:9, k2:27, k3:27\n"
     ]
    },
    {
     "name": "stderr",
     "output_type": "stream",
     "text": [
      "100%|████████████████████████████████████████████████████████████████████████████████████████████████| 1000/1000 [00:29<00:00, 33.87it/s]\n"
     ]
    },
    {
     "name": "stdout",
     "output_type": "stream",
     "text": [
      "{(1, 1, 1): ([468, 527], 5), (1, 1, 3): ([508, 492], 0), (1, 1, 9): ([522, 476], 2), (1, 1, 27): ([524, 476], 0), (1, 3, 1): ([519, 480], 1), (1, 3, 3): ([507, 489], 4), (1, 3, 9): ([499, 501], 0), (1, 9, 1): ([512, 485], 3), (1, 9, 3): ([509, 491], 0), (1, 9, 9): ([502, 498], 0), (3, 1, 1): ([489, 510], 1), (3, 1, 3): ([496, 503], 1), (3, 1, 9): ([523, 477], 0), (3, 3, 1): ([494, 506], 0), (3, 3, 3): ([527, 473], 0), (3, 3, 9): ([508, 492], 0), (3, 9, 1): ([512, 488], 0), (3, 9, 3): ([495, 505], 0), (3, 9, 9): ([506, 494], 0), (9, 1, 1): ([529, 470], 1), (9, 1, 3): ([497, 503], 0), (9, 1, 9): ([507, 493], 0), (9, 3, 1): ([507, 493], 0), (9, 3, 3): ([493, 507], 0), (9, 3, 9): ([532, 468], 0), (9, 9, 1): ([537, 463], 0), (9, 9, 3): ([504, 495], 1), (9, 9, 9): ([522, 477], 1), (1, 3, 27): ([486, 513], 1), (1, 9, 27): ([503, 497], 0), (1, 27, 1): ([513, 487], 0), (1, 27, 3): ([501, 499], 0), (1, 27, 9): ([504, 496], 0), (1, 27, 27): ([481, 519], 0), (3, 1, 27): ([516, 483], 1), (3, 3, 27): ([510, 489], 1), (3, 9, 27): ([525, 475], 0), (3, 27, 1): ([514, 486], 0), (3, 27, 3): ([502, 498], 0), (3, 27, 9): ([527, 471], 2), (3, 27, 27): ([470, 527], 3), (9, 1, 27): ([479, 520], 1), (9, 3, 27): ([526, 474], 0), (9, 9, 27): ([507, 492], 1), (9, 27, 1): ([499, 500], 1), (9, 27, 3): ([465, 534], 1), (9, 27, 9): ([495, 504], 1), (9, 27, 27): ([487, 513], 0)}\n",
      "Running experiment for k1:27, k2:1, k3:1\n"
     ]
    },
    {
     "name": "stderr",
     "output_type": "stream",
     "text": [
      "100%|████████████████████████████████████████████████████████████████████████████████████████████████| 1000/1000 [02:56<00:00,  5.66it/s]\n"
     ]
    },
    {
     "name": "stdout",
     "output_type": "stream",
     "text": [
      "{(1, 1, 1): ([468, 527], 5), (1, 1, 3): ([508, 492], 0), (1, 1, 9): ([522, 476], 2), (1, 1, 27): ([524, 476], 0), (1, 3, 1): ([519, 480], 1), (1, 3, 3): ([507, 489], 4), (1, 3, 9): ([499, 501], 0), (1, 9, 1): ([512, 485], 3), (1, 9, 3): ([509, 491], 0), (1, 9, 9): ([502, 498], 0), (3, 1, 1): ([489, 510], 1), (3, 1, 3): ([496, 503], 1), (3, 1, 9): ([523, 477], 0), (3, 3, 1): ([494, 506], 0), (3, 3, 3): ([527, 473], 0), (3, 3, 9): ([508, 492], 0), (3, 9, 1): ([512, 488], 0), (3, 9, 3): ([495, 505], 0), (3, 9, 9): ([506, 494], 0), (9, 1, 1): ([529, 470], 1), (9, 1, 3): ([497, 503], 0), (9, 1, 9): ([507, 493], 0), (9, 3, 1): ([507, 493], 0), (9, 3, 3): ([493, 507], 0), (9, 3, 9): ([532, 468], 0), (9, 9, 1): ([537, 463], 0), (9, 9, 3): ([504, 495], 1), (9, 9, 9): ([522, 477], 1), (1, 3, 27): ([486, 513], 1), (1, 9, 27): ([503, 497], 0), (1, 27, 1): ([513, 487], 0), (1, 27, 3): ([501, 499], 0), (1, 27, 9): ([504, 496], 0), (1, 27, 27): ([481, 519], 0), (3, 1, 27): ([516, 483], 1), (3, 3, 27): ([510, 489], 1), (3, 9, 27): ([525, 475], 0), (3, 27, 1): ([514, 486], 0), (3, 27, 3): ([502, 498], 0), (3, 27, 9): ([527, 471], 2), (3, 27, 27): ([470, 527], 3), (9, 1, 27): ([479, 520], 1), (9, 3, 27): ([526, 474], 0), (9, 9, 27): ([507, 492], 1), (9, 27, 1): ([499, 500], 1), (9, 27, 3): ([465, 534], 1), (9, 27, 9): ([495, 504], 1), (9, 27, 27): ([487, 513], 0), (27, 1, 1): ([526, 474], 0)}\n",
      "Running experiment for k1:27, k2:1, k3:3\n"
     ]
    },
    {
     "name": "stderr",
     "output_type": "stream",
     "text": [
      "100%|████████████████████████████████████████████████████████████████████████████████████████████████| 1000/1000 [02:37<00:00,  6.36it/s]\n"
     ]
    },
    {
     "name": "stdout",
     "output_type": "stream",
     "text": [
      "{(1, 1, 1): ([468, 527], 5), (1, 1, 3): ([508, 492], 0), (1, 1, 9): ([522, 476], 2), (1, 1, 27): ([524, 476], 0), (1, 3, 1): ([519, 480], 1), (1, 3, 3): ([507, 489], 4), (1, 3, 9): ([499, 501], 0), (1, 9, 1): ([512, 485], 3), (1, 9, 3): ([509, 491], 0), (1, 9, 9): ([502, 498], 0), (3, 1, 1): ([489, 510], 1), (3, 1, 3): ([496, 503], 1), (3, 1, 9): ([523, 477], 0), (3, 3, 1): ([494, 506], 0), (3, 3, 3): ([527, 473], 0), (3, 3, 9): ([508, 492], 0), (3, 9, 1): ([512, 488], 0), (3, 9, 3): ([495, 505], 0), (3, 9, 9): ([506, 494], 0), (9, 1, 1): ([529, 470], 1), (9, 1, 3): ([497, 503], 0), (9, 1, 9): ([507, 493], 0), (9, 3, 1): ([507, 493], 0), (9, 3, 3): ([493, 507], 0), (9, 3, 9): ([532, 468], 0), (9, 9, 1): ([537, 463], 0), (9, 9, 3): ([504, 495], 1), (9, 9, 9): ([522, 477], 1), (1, 3, 27): ([486, 513], 1), (1, 9, 27): ([503, 497], 0), (1, 27, 1): ([513, 487], 0), (1, 27, 3): ([501, 499], 0), (1, 27, 9): ([504, 496], 0), (1, 27, 27): ([481, 519], 0), (3, 1, 27): ([516, 483], 1), (3, 3, 27): ([510, 489], 1), (3, 9, 27): ([525, 475], 0), (3, 27, 1): ([514, 486], 0), (3, 27, 3): ([502, 498], 0), (3, 27, 9): ([527, 471], 2), (3, 27, 27): ([470, 527], 3), (9, 1, 27): ([479, 520], 1), (9, 3, 27): ([526, 474], 0), (9, 9, 27): ([507, 492], 1), (9, 27, 1): ([499, 500], 1), (9, 27, 3): ([465, 534], 1), (9, 27, 9): ([495, 504], 1), (9, 27, 27): ([487, 513], 0), (27, 1, 1): ([526, 474], 0), (27, 1, 3): ([538, 462], 0)}\n",
      "Running experiment for k1:27, k2:1, k3:9\n"
     ]
    },
    {
     "name": "stderr",
     "output_type": "stream",
     "text": [
      "100%|████████████████████████████████████████████████████████████████████████████████████████████████| 1000/1000 [02:05<00:00,  7.97it/s]\n"
     ]
    },
    {
     "name": "stdout",
     "output_type": "stream",
     "text": [
      "{(1, 1, 1): ([468, 527], 5), (1, 1, 3): ([508, 492], 0), (1, 1, 9): ([522, 476], 2), (1, 1, 27): ([524, 476], 0), (1, 3, 1): ([519, 480], 1), (1, 3, 3): ([507, 489], 4), (1, 3, 9): ([499, 501], 0), (1, 9, 1): ([512, 485], 3), (1, 9, 3): ([509, 491], 0), (1, 9, 9): ([502, 498], 0), (3, 1, 1): ([489, 510], 1), (3, 1, 3): ([496, 503], 1), (3, 1, 9): ([523, 477], 0), (3, 3, 1): ([494, 506], 0), (3, 3, 3): ([527, 473], 0), (3, 3, 9): ([508, 492], 0), (3, 9, 1): ([512, 488], 0), (3, 9, 3): ([495, 505], 0), (3, 9, 9): ([506, 494], 0), (9, 1, 1): ([529, 470], 1), (9, 1, 3): ([497, 503], 0), (9, 1, 9): ([507, 493], 0), (9, 3, 1): ([507, 493], 0), (9, 3, 3): ([493, 507], 0), (9, 3, 9): ([532, 468], 0), (9, 9, 1): ([537, 463], 0), (9, 9, 3): ([504, 495], 1), (9, 9, 9): ([522, 477], 1), (1, 3, 27): ([486, 513], 1), (1, 9, 27): ([503, 497], 0), (1, 27, 1): ([513, 487], 0), (1, 27, 3): ([501, 499], 0), (1, 27, 9): ([504, 496], 0), (1, 27, 27): ([481, 519], 0), (3, 1, 27): ([516, 483], 1), (3, 3, 27): ([510, 489], 1), (3, 9, 27): ([525, 475], 0), (3, 27, 1): ([514, 486], 0), (3, 27, 3): ([502, 498], 0), (3, 27, 9): ([527, 471], 2), (3, 27, 27): ([470, 527], 3), (9, 1, 27): ([479, 520], 1), (9, 3, 27): ([526, 474], 0), (9, 9, 27): ([507, 492], 1), (9, 27, 1): ([499, 500], 1), (9, 27, 3): ([465, 534], 1), (9, 27, 9): ([495, 504], 1), (9, 27, 27): ([487, 513], 0), (27, 1, 1): ([526, 474], 0), (27, 1, 3): ([538, 462], 0), (27, 1, 9): ([519, 479], 2)}\n",
      "Running experiment for k1:27, k2:1, k3:27\n"
     ]
    },
    {
     "name": "stderr",
     "output_type": "stream",
     "text": [
      "100%|████████████████████████████████████████████████████████████████████████████████████████████████| 1000/1000 [01:30<00:00, 10.99it/s]\n"
     ]
    },
    {
     "name": "stdout",
     "output_type": "stream",
     "text": [
      "{(1, 1, 1): ([468, 527], 5), (1, 1, 3): ([508, 492], 0), (1, 1, 9): ([522, 476], 2), (1, 1, 27): ([524, 476], 0), (1, 3, 1): ([519, 480], 1), (1, 3, 3): ([507, 489], 4), (1, 3, 9): ([499, 501], 0), (1, 9, 1): ([512, 485], 3), (1, 9, 3): ([509, 491], 0), (1, 9, 9): ([502, 498], 0), (3, 1, 1): ([489, 510], 1), (3, 1, 3): ([496, 503], 1), (3, 1, 9): ([523, 477], 0), (3, 3, 1): ([494, 506], 0), (3, 3, 3): ([527, 473], 0), (3, 3, 9): ([508, 492], 0), (3, 9, 1): ([512, 488], 0), (3, 9, 3): ([495, 505], 0), (3, 9, 9): ([506, 494], 0), (9, 1, 1): ([529, 470], 1), (9, 1, 3): ([497, 503], 0), (9, 1, 9): ([507, 493], 0), (9, 3, 1): ([507, 493], 0), (9, 3, 3): ([493, 507], 0), (9, 3, 9): ([532, 468], 0), (9, 9, 1): ([537, 463], 0), (9, 9, 3): ([504, 495], 1), (9, 9, 9): ([522, 477], 1), (1, 3, 27): ([486, 513], 1), (1, 9, 27): ([503, 497], 0), (1, 27, 1): ([513, 487], 0), (1, 27, 3): ([501, 499], 0), (1, 27, 9): ([504, 496], 0), (1, 27, 27): ([481, 519], 0), (3, 1, 27): ([516, 483], 1), (3, 3, 27): ([510, 489], 1), (3, 9, 27): ([525, 475], 0), (3, 27, 1): ([514, 486], 0), (3, 27, 3): ([502, 498], 0), (3, 27, 9): ([527, 471], 2), (3, 27, 27): ([470, 527], 3), (9, 1, 27): ([479, 520], 1), (9, 3, 27): ([526, 474], 0), (9, 9, 27): ([507, 492], 1), (9, 27, 1): ([499, 500], 1), (9, 27, 3): ([465, 534], 1), (9, 27, 9): ([495, 504], 1), (9, 27, 27): ([487, 513], 0), (27, 1, 1): ([526, 474], 0), (27, 1, 3): ([538, 462], 0), (27, 1, 9): ([519, 479], 2), (27, 1, 27): ([502, 496], 2)}\n",
      "Running experiment for k1:27, k2:3, k3:1\n"
     ]
    },
    {
     "name": "stderr",
     "output_type": "stream",
     "text": [
      "100%|████████████████████████████████████████████████████████████████████████████████████████████████| 1000/1000 [02:36<00:00,  6.40it/s]\n"
     ]
    },
    {
     "name": "stdout",
     "output_type": "stream",
     "text": [
      "{(1, 1, 1): ([468, 527], 5), (1, 1, 3): ([508, 492], 0), (1, 1, 9): ([522, 476], 2), (1, 1, 27): ([524, 476], 0), (1, 3, 1): ([519, 480], 1), (1, 3, 3): ([507, 489], 4), (1, 3, 9): ([499, 501], 0), (1, 9, 1): ([512, 485], 3), (1, 9, 3): ([509, 491], 0), (1, 9, 9): ([502, 498], 0), (3, 1, 1): ([489, 510], 1), (3, 1, 3): ([496, 503], 1), (3, 1, 9): ([523, 477], 0), (3, 3, 1): ([494, 506], 0), (3, 3, 3): ([527, 473], 0), (3, 3, 9): ([508, 492], 0), (3, 9, 1): ([512, 488], 0), (3, 9, 3): ([495, 505], 0), (3, 9, 9): ([506, 494], 0), (9, 1, 1): ([529, 470], 1), (9, 1, 3): ([497, 503], 0), (9, 1, 9): ([507, 493], 0), (9, 3, 1): ([507, 493], 0), (9, 3, 3): ([493, 507], 0), (9, 3, 9): ([532, 468], 0), (9, 9, 1): ([537, 463], 0), (9, 9, 3): ([504, 495], 1), (9, 9, 9): ([522, 477], 1), (1, 3, 27): ([486, 513], 1), (1, 9, 27): ([503, 497], 0), (1, 27, 1): ([513, 487], 0), (1, 27, 3): ([501, 499], 0), (1, 27, 9): ([504, 496], 0), (1, 27, 27): ([481, 519], 0), (3, 1, 27): ([516, 483], 1), (3, 3, 27): ([510, 489], 1), (3, 9, 27): ([525, 475], 0), (3, 27, 1): ([514, 486], 0), (3, 27, 3): ([502, 498], 0), (3, 27, 9): ([527, 471], 2), (3, 27, 27): ([470, 527], 3), (9, 1, 27): ([479, 520], 1), (9, 3, 27): ([526, 474], 0), (9, 9, 27): ([507, 492], 1), (9, 27, 1): ([499, 500], 1), (9, 27, 3): ([465, 534], 1), (9, 27, 9): ([495, 504], 1), (9, 27, 27): ([487, 513], 0), (27, 1, 1): ([526, 474], 0), (27, 1, 3): ([538, 462], 0), (27, 1, 9): ([519, 479], 2), (27, 1, 27): ([502, 496], 2), (27, 3, 1): ([515, 485], 0)}\n",
      "Running experiment for k1:27, k2:3, k3:3\n"
     ]
    },
    {
     "name": "stderr",
     "output_type": "stream",
     "text": [
      "100%|████████████████████████████████████████████████████████████████████████████████████████████████| 1000/1000 [02:08<00:00,  7.77it/s]\n"
     ]
    },
    {
     "name": "stdout",
     "output_type": "stream",
     "text": [
      "{(1, 1, 1): ([468, 527], 5), (1, 1, 3): ([508, 492], 0), (1, 1, 9): ([522, 476], 2), (1, 1, 27): ([524, 476], 0), (1, 3, 1): ([519, 480], 1), (1, 3, 3): ([507, 489], 4), (1, 3, 9): ([499, 501], 0), (1, 9, 1): ([512, 485], 3), (1, 9, 3): ([509, 491], 0), (1, 9, 9): ([502, 498], 0), (3, 1, 1): ([489, 510], 1), (3, 1, 3): ([496, 503], 1), (3, 1, 9): ([523, 477], 0), (3, 3, 1): ([494, 506], 0), (3, 3, 3): ([527, 473], 0), (3, 3, 9): ([508, 492], 0), (3, 9, 1): ([512, 488], 0), (3, 9, 3): ([495, 505], 0), (3, 9, 9): ([506, 494], 0), (9, 1, 1): ([529, 470], 1), (9, 1, 3): ([497, 503], 0), (9, 1, 9): ([507, 493], 0), (9, 3, 1): ([507, 493], 0), (9, 3, 3): ([493, 507], 0), (9, 3, 9): ([532, 468], 0), (9, 9, 1): ([537, 463], 0), (9, 9, 3): ([504, 495], 1), (9, 9, 9): ([522, 477], 1), (1, 3, 27): ([486, 513], 1), (1, 9, 27): ([503, 497], 0), (1, 27, 1): ([513, 487], 0), (1, 27, 3): ([501, 499], 0), (1, 27, 9): ([504, 496], 0), (1, 27, 27): ([481, 519], 0), (3, 1, 27): ([516, 483], 1), (3, 3, 27): ([510, 489], 1), (3, 9, 27): ([525, 475], 0), (3, 27, 1): ([514, 486], 0), (3, 27, 3): ([502, 498], 0), (3, 27, 9): ([527, 471], 2), (3, 27, 27): ([470, 527], 3), (9, 1, 27): ([479, 520], 1), (9, 3, 27): ([526, 474], 0), (9, 9, 27): ([507, 492], 1), (9, 27, 1): ([499, 500], 1), (9, 27, 3): ([465, 534], 1), (9, 27, 9): ([495, 504], 1), (9, 27, 27): ([487, 513], 0), (27, 1, 1): ([526, 474], 0), (27, 1, 3): ([538, 462], 0), (27, 1, 9): ([519, 479], 2), (27, 1, 27): ([502, 496], 2), (27, 3, 1): ([515, 485], 0), (27, 3, 3): ([488, 510], 2)}\n",
      "Running experiment for k1:27, k2:3, k3:9\n"
     ]
    },
    {
     "name": "stderr",
     "output_type": "stream",
     "text": [
      "100%|████████████████████████████████████████████████████████████████████████████████████████████████| 1000/1000 [01:32<00:00, 10.83it/s]\n"
     ]
    },
    {
     "name": "stdout",
     "output_type": "stream",
     "text": [
      "{(1, 1, 1): ([468, 527], 5), (1, 1, 3): ([508, 492], 0), (1, 1, 9): ([522, 476], 2), (1, 1, 27): ([524, 476], 0), (1, 3, 1): ([519, 480], 1), (1, 3, 3): ([507, 489], 4), (1, 3, 9): ([499, 501], 0), (1, 9, 1): ([512, 485], 3), (1, 9, 3): ([509, 491], 0), (1, 9, 9): ([502, 498], 0), (3, 1, 1): ([489, 510], 1), (3, 1, 3): ([496, 503], 1), (3, 1, 9): ([523, 477], 0), (3, 3, 1): ([494, 506], 0), (3, 3, 3): ([527, 473], 0), (3, 3, 9): ([508, 492], 0), (3, 9, 1): ([512, 488], 0), (3, 9, 3): ([495, 505], 0), (3, 9, 9): ([506, 494], 0), (9, 1, 1): ([529, 470], 1), (9, 1, 3): ([497, 503], 0), (9, 1, 9): ([507, 493], 0), (9, 3, 1): ([507, 493], 0), (9, 3, 3): ([493, 507], 0), (9, 3, 9): ([532, 468], 0), (9, 9, 1): ([537, 463], 0), (9, 9, 3): ([504, 495], 1), (9, 9, 9): ([522, 477], 1), (1, 3, 27): ([486, 513], 1), (1, 9, 27): ([503, 497], 0), (1, 27, 1): ([513, 487], 0), (1, 27, 3): ([501, 499], 0), (1, 27, 9): ([504, 496], 0), (1, 27, 27): ([481, 519], 0), (3, 1, 27): ([516, 483], 1), (3, 3, 27): ([510, 489], 1), (3, 9, 27): ([525, 475], 0), (3, 27, 1): ([514, 486], 0), (3, 27, 3): ([502, 498], 0), (3, 27, 9): ([527, 471], 2), (3, 27, 27): ([470, 527], 3), (9, 1, 27): ([479, 520], 1), (9, 3, 27): ([526, 474], 0), (9, 9, 27): ([507, 492], 1), (9, 27, 1): ([499, 500], 1), (9, 27, 3): ([465, 534], 1), (9, 27, 9): ([495, 504], 1), (9, 27, 27): ([487, 513], 0), (27, 1, 1): ([526, 474], 0), (27, 1, 3): ([538, 462], 0), (27, 1, 9): ([519, 479], 2), (27, 1, 27): ([502, 496], 2), (27, 3, 1): ([515, 485], 0), (27, 3, 3): ([488, 510], 2), (27, 3, 9): ([501, 499], 0)}\n",
      "Running experiment for k1:27, k2:3, k3:27\n"
     ]
    },
    {
     "name": "stderr",
     "output_type": "stream",
     "text": [
      "100%|████████████████████████████████████████████████████████████████████████████████████████████████| 1000/1000 [00:59<00:00, 16.77it/s]\n"
     ]
    },
    {
     "name": "stdout",
     "output_type": "stream",
     "text": [
      "{(1, 1, 1): ([468, 527], 5), (1, 1, 3): ([508, 492], 0), (1, 1, 9): ([522, 476], 2), (1, 1, 27): ([524, 476], 0), (1, 3, 1): ([519, 480], 1), (1, 3, 3): ([507, 489], 4), (1, 3, 9): ([499, 501], 0), (1, 9, 1): ([512, 485], 3), (1, 9, 3): ([509, 491], 0), (1, 9, 9): ([502, 498], 0), (3, 1, 1): ([489, 510], 1), (3, 1, 3): ([496, 503], 1), (3, 1, 9): ([523, 477], 0), (3, 3, 1): ([494, 506], 0), (3, 3, 3): ([527, 473], 0), (3, 3, 9): ([508, 492], 0), (3, 9, 1): ([512, 488], 0), (3, 9, 3): ([495, 505], 0), (3, 9, 9): ([506, 494], 0), (9, 1, 1): ([529, 470], 1), (9, 1, 3): ([497, 503], 0), (9, 1, 9): ([507, 493], 0), (9, 3, 1): ([507, 493], 0), (9, 3, 3): ([493, 507], 0), (9, 3, 9): ([532, 468], 0), (9, 9, 1): ([537, 463], 0), (9, 9, 3): ([504, 495], 1), (9, 9, 9): ([522, 477], 1), (1, 3, 27): ([486, 513], 1), (1, 9, 27): ([503, 497], 0), (1, 27, 1): ([513, 487], 0), (1, 27, 3): ([501, 499], 0), (1, 27, 9): ([504, 496], 0), (1, 27, 27): ([481, 519], 0), (3, 1, 27): ([516, 483], 1), (3, 3, 27): ([510, 489], 1), (3, 9, 27): ([525, 475], 0), (3, 27, 1): ([514, 486], 0), (3, 27, 3): ([502, 498], 0), (3, 27, 9): ([527, 471], 2), (3, 27, 27): ([470, 527], 3), (9, 1, 27): ([479, 520], 1), (9, 3, 27): ([526, 474], 0), (9, 9, 27): ([507, 492], 1), (9, 27, 1): ([499, 500], 1), (9, 27, 3): ([465, 534], 1), (9, 27, 9): ([495, 504], 1), (9, 27, 27): ([487, 513], 0), (27, 1, 1): ([526, 474], 0), (27, 1, 3): ([538, 462], 0), (27, 1, 9): ([519, 479], 2), (27, 1, 27): ([502, 496], 2), (27, 3, 1): ([515, 485], 0), (27, 3, 3): ([488, 510], 2), (27, 3, 9): ([501, 499], 0), (27, 3, 27): ([499, 501], 0)}\n",
      "Running experiment for k1:27, k2:9, k3:1\n"
     ]
    },
    {
     "name": "stderr",
     "output_type": "stream",
     "text": [
      "100%|████████████████████████████████████████████████████████████████████████████████████████████████| 1000/1000 [02:06<00:00,  7.90it/s]\n"
     ]
    },
    {
     "name": "stdout",
     "output_type": "stream",
     "text": [
      "{(1, 1, 1): ([468, 527], 5), (1, 1, 3): ([508, 492], 0), (1, 1, 9): ([522, 476], 2), (1, 1, 27): ([524, 476], 0), (1, 3, 1): ([519, 480], 1), (1, 3, 3): ([507, 489], 4), (1, 3, 9): ([499, 501], 0), (1, 9, 1): ([512, 485], 3), (1, 9, 3): ([509, 491], 0), (1, 9, 9): ([502, 498], 0), (3, 1, 1): ([489, 510], 1), (3, 1, 3): ([496, 503], 1), (3, 1, 9): ([523, 477], 0), (3, 3, 1): ([494, 506], 0), (3, 3, 3): ([527, 473], 0), (3, 3, 9): ([508, 492], 0), (3, 9, 1): ([512, 488], 0), (3, 9, 3): ([495, 505], 0), (3, 9, 9): ([506, 494], 0), (9, 1, 1): ([529, 470], 1), (9, 1, 3): ([497, 503], 0), (9, 1, 9): ([507, 493], 0), (9, 3, 1): ([507, 493], 0), (9, 3, 3): ([493, 507], 0), (9, 3, 9): ([532, 468], 0), (9, 9, 1): ([537, 463], 0), (9, 9, 3): ([504, 495], 1), (9, 9, 9): ([522, 477], 1), (1, 3, 27): ([486, 513], 1), (1, 9, 27): ([503, 497], 0), (1, 27, 1): ([513, 487], 0), (1, 27, 3): ([501, 499], 0), (1, 27, 9): ([504, 496], 0), (1, 27, 27): ([481, 519], 0), (3, 1, 27): ([516, 483], 1), (3, 3, 27): ([510, 489], 1), (3, 9, 27): ([525, 475], 0), (3, 27, 1): ([514, 486], 0), (3, 27, 3): ([502, 498], 0), (3, 27, 9): ([527, 471], 2), (3, 27, 27): ([470, 527], 3), (9, 1, 27): ([479, 520], 1), (9, 3, 27): ([526, 474], 0), (9, 9, 27): ([507, 492], 1), (9, 27, 1): ([499, 500], 1), (9, 27, 3): ([465, 534], 1), (9, 27, 9): ([495, 504], 1), (9, 27, 27): ([487, 513], 0), (27, 1, 1): ([526, 474], 0), (27, 1, 3): ([538, 462], 0), (27, 1, 9): ([519, 479], 2), (27, 1, 27): ([502, 496], 2), (27, 3, 1): ([515, 485], 0), (27, 3, 3): ([488, 510], 2), (27, 3, 9): ([501, 499], 0), (27, 3, 27): ([499, 501], 0), (27, 9, 1): ([503, 496], 1)}\n",
      "Running experiment for k1:27, k2:9, k3:3\n"
     ]
    },
    {
     "name": "stderr",
     "output_type": "stream",
     "text": [
      "100%|████████████████████████████████████████████████████████████████████████████████████████████████| 1000/1000 [01:29<00:00, 11.13it/s]\n"
     ]
    },
    {
     "name": "stdout",
     "output_type": "stream",
     "text": [
      "{(1, 1, 1): ([468, 527], 5), (1, 1, 3): ([508, 492], 0), (1, 1, 9): ([522, 476], 2), (1, 1, 27): ([524, 476], 0), (1, 3, 1): ([519, 480], 1), (1, 3, 3): ([507, 489], 4), (1, 3, 9): ([499, 501], 0), (1, 9, 1): ([512, 485], 3), (1, 9, 3): ([509, 491], 0), (1, 9, 9): ([502, 498], 0), (3, 1, 1): ([489, 510], 1), (3, 1, 3): ([496, 503], 1), (3, 1, 9): ([523, 477], 0), (3, 3, 1): ([494, 506], 0), (3, 3, 3): ([527, 473], 0), (3, 3, 9): ([508, 492], 0), (3, 9, 1): ([512, 488], 0), (3, 9, 3): ([495, 505], 0), (3, 9, 9): ([506, 494], 0), (9, 1, 1): ([529, 470], 1), (9, 1, 3): ([497, 503], 0), (9, 1, 9): ([507, 493], 0), (9, 3, 1): ([507, 493], 0), (9, 3, 3): ([493, 507], 0), (9, 3, 9): ([532, 468], 0), (9, 9, 1): ([537, 463], 0), (9, 9, 3): ([504, 495], 1), (9, 9, 9): ([522, 477], 1), (1, 3, 27): ([486, 513], 1), (1, 9, 27): ([503, 497], 0), (1, 27, 1): ([513, 487], 0), (1, 27, 3): ([501, 499], 0), (1, 27, 9): ([504, 496], 0), (1, 27, 27): ([481, 519], 0), (3, 1, 27): ([516, 483], 1), (3, 3, 27): ([510, 489], 1), (3, 9, 27): ([525, 475], 0), (3, 27, 1): ([514, 486], 0), (3, 27, 3): ([502, 498], 0), (3, 27, 9): ([527, 471], 2), (3, 27, 27): ([470, 527], 3), (9, 1, 27): ([479, 520], 1), (9, 3, 27): ([526, 474], 0), (9, 9, 27): ([507, 492], 1), (9, 27, 1): ([499, 500], 1), (9, 27, 3): ([465, 534], 1), (9, 27, 9): ([495, 504], 1), (9, 27, 27): ([487, 513], 0), (27, 1, 1): ([526, 474], 0), (27, 1, 3): ([538, 462], 0), (27, 1, 9): ([519, 479], 2), (27, 1, 27): ([502, 496], 2), (27, 3, 1): ([515, 485], 0), (27, 3, 3): ([488, 510], 2), (27, 3, 9): ([501, 499], 0), (27, 3, 27): ([499, 501], 0), (27, 9, 1): ([503, 496], 1), (27, 9, 3): ([504, 496], 0)}\n",
      "Running experiment for k1:27, k2:9, k3:9\n"
     ]
    },
    {
     "name": "stderr",
     "output_type": "stream",
     "text": [
      "100%|████████████████████████████████████████████████████████████████████████████████████████████████| 1000/1000 [00:56<00:00, 17.58it/s]\n"
     ]
    },
    {
     "name": "stdout",
     "output_type": "stream",
     "text": [
      "{(1, 1, 1): ([468, 527], 5), (1, 1, 3): ([508, 492], 0), (1, 1, 9): ([522, 476], 2), (1, 1, 27): ([524, 476], 0), (1, 3, 1): ([519, 480], 1), (1, 3, 3): ([507, 489], 4), (1, 3, 9): ([499, 501], 0), (1, 9, 1): ([512, 485], 3), (1, 9, 3): ([509, 491], 0), (1, 9, 9): ([502, 498], 0), (3, 1, 1): ([489, 510], 1), (3, 1, 3): ([496, 503], 1), (3, 1, 9): ([523, 477], 0), (3, 3, 1): ([494, 506], 0), (3, 3, 3): ([527, 473], 0), (3, 3, 9): ([508, 492], 0), (3, 9, 1): ([512, 488], 0), (3, 9, 3): ([495, 505], 0), (3, 9, 9): ([506, 494], 0), (9, 1, 1): ([529, 470], 1), (9, 1, 3): ([497, 503], 0), (9, 1, 9): ([507, 493], 0), (9, 3, 1): ([507, 493], 0), (9, 3, 3): ([493, 507], 0), (9, 3, 9): ([532, 468], 0), (9, 9, 1): ([537, 463], 0), (9, 9, 3): ([504, 495], 1), (9, 9, 9): ([522, 477], 1), (1, 3, 27): ([486, 513], 1), (1, 9, 27): ([503, 497], 0), (1, 27, 1): ([513, 487], 0), (1, 27, 3): ([501, 499], 0), (1, 27, 9): ([504, 496], 0), (1, 27, 27): ([481, 519], 0), (3, 1, 27): ([516, 483], 1), (3, 3, 27): ([510, 489], 1), (3, 9, 27): ([525, 475], 0), (3, 27, 1): ([514, 486], 0), (3, 27, 3): ([502, 498], 0), (3, 27, 9): ([527, 471], 2), (3, 27, 27): ([470, 527], 3), (9, 1, 27): ([479, 520], 1), (9, 3, 27): ([526, 474], 0), (9, 9, 27): ([507, 492], 1), (9, 27, 1): ([499, 500], 1), (9, 27, 3): ([465, 534], 1), (9, 27, 9): ([495, 504], 1), (9, 27, 27): ([487, 513], 0), (27, 1, 1): ([526, 474], 0), (27, 1, 3): ([538, 462], 0), (27, 1, 9): ([519, 479], 2), (27, 1, 27): ([502, 496], 2), (27, 3, 1): ([515, 485], 0), (27, 3, 3): ([488, 510], 2), (27, 3, 9): ([501, 499], 0), (27, 3, 27): ([499, 501], 0), (27, 9, 1): ([503, 496], 1), (27, 9, 3): ([504, 496], 0), (27, 9, 9): ([509, 491], 0)}\n",
      "Running experiment for k1:27, k2:9, k3:27\n"
     ]
    },
    {
     "name": "stderr",
     "output_type": "stream",
     "text": [
      "100%|████████████████████████████████████████████████████████████████████████████████████████████████| 1000/1000 [00:28<00:00, 35.12it/s]\n"
     ]
    },
    {
     "name": "stdout",
     "output_type": "stream",
     "text": [
      "{(1, 1, 1): ([468, 527], 5), (1, 1, 3): ([508, 492], 0), (1, 1, 9): ([522, 476], 2), (1, 1, 27): ([524, 476], 0), (1, 3, 1): ([519, 480], 1), (1, 3, 3): ([507, 489], 4), (1, 3, 9): ([499, 501], 0), (1, 9, 1): ([512, 485], 3), (1, 9, 3): ([509, 491], 0), (1, 9, 9): ([502, 498], 0), (3, 1, 1): ([489, 510], 1), (3, 1, 3): ([496, 503], 1), (3, 1, 9): ([523, 477], 0), (3, 3, 1): ([494, 506], 0), (3, 3, 3): ([527, 473], 0), (3, 3, 9): ([508, 492], 0), (3, 9, 1): ([512, 488], 0), (3, 9, 3): ([495, 505], 0), (3, 9, 9): ([506, 494], 0), (9, 1, 1): ([529, 470], 1), (9, 1, 3): ([497, 503], 0), (9, 1, 9): ([507, 493], 0), (9, 3, 1): ([507, 493], 0), (9, 3, 3): ([493, 507], 0), (9, 3, 9): ([532, 468], 0), (9, 9, 1): ([537, 463], 0), (9, 9, 3): ([504, 495], 1), (9, 9, 9): ([522, 477], 1), (1, 3, 27): ([486, 513], 1), (1, 9, 27): ([503, 497], 0), (1, 27, 1): ([513, 487], 0), (1, 27, 3): ([501, 499], 0), (1, 27, 9): ([504, 496], 0), (1, 27, 27): ([481, 519], 0), (3, 1, 27): ([516, 483], 1), (3, 3, 27): ([510, 489], 1), (3, 9, 27): ([525, 475], 0), (3, 27, 1): ([514, 486], 0), (3, 27, 3): ([502, 498], 0), (3, 27, 9): ([527, 471], 2), (3, 27, 27): ([470, 527], 3), (9, 1, 27): ([479, 520], 1), (9, 3, 27): ([526, 474], 0), (9, 9, 27): ([507, 492], 1), (9, 27, 1): ([499, 500], 1), (9, 27, 3): ([465, 534], 1), (9, 27, 9): ([495, 504], 1), (9, 27, 27): ([487, 513], 0), (27, 1, 1): ([526, 474], 0), (27, 1, 3): ([538, 462], 0), (27, 1, 9): ([519, 479], 2), (27, 1, 27): ([502, 496], 2), (27, 3, 1): ([515, 485], 0), (27, 3, 3): ([488, 510], 2), (27, 3, 9): ([501, 499], 0), (27, 3, 27): ([499, 501], 0), (27, 9, 1): ([503, 496], 1), (27, 9, 3): ([504, 496], 0), (27, 9, 9): ([509, 491], 0), (27, 9, 27): ([530, 470], 0)}\n",
      "Running experiment for k1:27, k2:27, k3:1\n"
     ]
    },
    {
     "name": "stderr",
     "output_type": "stream",
     "text": [
      "100%|████████████████████████████████████████████████████████████████████████████████████████████████| 1000/1000 [01:30<00:00, 11.09it/s]\n"
     ]
    },
    {
     "name": "stdout",
     "output_type": "stream",
     "text": [
      "{(1, 1, 1): ([468, 527], 5), (1, 1, 3): ([508, 492], 0), (1, 1, 9): ([522, 476], 2), (1, 1, 27): ([524, 476], 0), (1, 3, 1): ([519, 480], 1), (1, 3, 3): ([507, 489], 4), (1, 3, 9): ([499, 501], 0), (1, 9, 1): ([512, 485], 3), (1, 9, 3): ([509, 491], 0), (1, 9, 9): ([502, 498], 0), (3, 1, 1): ([489, 510], 1), (3, 1, 3): ([496, 503], 1), (3, 1, 9): ([523, 477], 0), (3, 3, 1): ([494, 506], 0), (3, 3, 3): ([527, 473], 0), (3, 3, 9): ([508, 492], 0), (3, 9, 1): ([512, 488], 0), (3, 9, 3): ([495, 505], 0), (3, 9, 9): ([506, 494], 0), (9, 1, 1): ([529, 470], 1), (9, 1, 3): ([497, 503], 0), (9, 1, 9): ([507, 493], 0), (9, 3, 1): ([507, 493], 0), (9, 3, 3): ([493, 507], 0), (9, 3, 9): ([532, 468], 0), (9, 9, 1): ([537, 463], 0), (9, 9, 3): ([504, 495], 1), (9, 9, 9): ([522, 477], 1), (1, 3, 27): ([486, 513], 1), (1, 9, 27): ([503, 497], 0), (1, 27, 1): ([513, 487], 0), (1, 27, 3): ([501, 499], 0), (1, 27, 9): ([504, 496], 0), (1, 27, 27): ([481, 519], 0), (3, 1, 27): ([516, 483], 1), (3, 3, 27): ([510, 489], 1), (3, 9, 27): ([525, 475], 0), (3, 27, 1): ([514, 486], 0), (3, 27, 3): ([502, 498], 0), (3, 27, 9): ([527, 471], 2), (3, 27, 27): ([470, 527], 3), (9, 1, 27): ([479, 520], 1), (9, 3, 27): ([526, 474], 0), (9, 9, 27): ([507, 492], 1), (9, 27, 1): ([499, 500], 1), (9, 27, 3): ([465, 534], 1), (9, 27, 9): ([495, 504], 1), (9, 27, 27): ([487, 513], 0), (27, 1, 1): ([526, 474], 0), (27, 1, 3): ([538, 462], 0), (27, 1, 9): ([519, 479], 2), (27, 1, 27): ([502, 496], 2), (27, 3, 1): ([515, 485], 0), (27, 3, 3): ([488, 510], 2), (27, 3, 9): ([501, 499], 0), (27, 3, 27): ([499, 501], 0), (27, 9, 1): ([503, 496], 1), (27, 9, 3): ([504, 496], 0), (27, 9, 9): ([509, 491], 0), (27, 9, 27): ([530, 470], 0), (27, 27, 1): ([468, 532], 0)}\n",
      "Running experiment for k1:27, k2:27, k3:3\n"
     ]
    },
    {
     "name": "stderr",
     "output_type": "stream",
     "text": [
      "100%|████████████████████████████████████████████████████████████████████████████████████████████████| 1000/1000 [00:58<00:00, 16.96it/s]\n"
     ]
    },
    {
     "name": "stdout",
     "output_type": "stream",
     "text": [
      "{(1, 1, 1): ([468, 527], 5), (1, 1, 3): ([508, 492], 0), (1, 1, 9): ([522, 476], 2), (1, 1, 27): ([524, 476], 0), (1, 3, 1): ([519, 480], 1), (1, 3, 3): ([507, 489], 4), (1, 3, 9): ([499, 501], 0), (1, 9, 1): ([512, 485], 3), (1, 9, 3): ([509, 491], 0), (1, 9, 9): ([502, 498], 0), (3, 1, 1): ([489, 510], 1), (3, 1, 3): ([496, 503], 1), (3, 1, 9): ([523, 477], 0), (3, 3, 1): ([494, 506], 0), (3, 3, 3): ([527, 473], 0), (3, 3, 9): ([508, 492], 0), (3, 9, 1): ([512, 488], 0), (3, 9, 3): ([495, 505], 0), (3, 9, 9): ([506, 494], 0), (9, 1, 1): ([529, 470], 1), (9, 1, 3): ([497, 503], 0), (9, 1, 9): ([507, 493], 0), (9, 3, 1): ([507, 493], 0), (9, 3, 3): ([493, 507], 0), (9, 3, 9): ([532, 468], 0), (9, 9, 1): ([537, 463], 0), (9, 9, 3): ([504, 495], 1), (9, 9, 9): ([522, 477], 1), (1, 3, 27): ([486, 513], 1), (1, 9, 27): ([503, 497], 0), (1, 27, 1): ([513, 487], 0), (1, 27, 3): ([501, 499], 0), (1, 27, 9): ([504, 496], 0), (1, 27, 27): ([481, 519], 0), (3, 1, 27): ([516, 483], 1), (3, 3, 27): ([510, 489], 1), (3, 9, 27): ([525, 475], 0), (3, 27, 1): ([514, 486], 0), (3, 27, 3): ([502, 498], 0), (3, 27, 9): ([527, 471], 2), (3, 27, 27): ([470, 527], 3), (9, 1, 27): ([479, 520], 1), (9, 3, 27): ([526, 474], 0), (9, 9, 27): ([507, 492], 1), (9, 27, 1): ([499, 500], 1), (9, 27, 3): ([465, 534], 1), (9, 27, 9): ([495, 504], 1), (9, 27, 27): ([487, 513], 0), (27, 1, 1): ([526, 474], 0), (27, 1, 3): ([538, 462], 0), (27, 1, 9): ([519, 479], 2), (27, 1, 27): ([502, 496], 2), (27, 3, 1): ([515, 485], 0), (27, 3, 3): ([488, 510], 2), (27, 3, 9): ([501, 499], 0), (27, 3, 27): ([499, 501], 0), (27, 9, 1): ([503, 496], 1), (27, 9, 3): ([504, 496], 0), (27, 9, 9): ([509, 491], 0), (27, 9, 27): ([530, 470], 0), (27, 27, 1): ([468, 532], 0), (27, 27, 3): ([507, 492], 1)}\n",
      "Running experiment for k1:27, k2:27, k3:9\n"
     ]
    },
    {
     "name": "stderr",
     "output_type": "stream",
     "text": [
      "100%|████████████████████████████████████████████████████████████████████████████████████████████████| 1000/1000 [00:28<00:00, 34.88it/s]\n"
     ]
    },
    {
     "name": "stdout",
     "output_type": "stream",
     "text": [
      "{(1, 1, 1): ([468, 527], 5), (1, 1, 3): ([508, 492], 0), (1, 1, 9): ([522, 476], 2), (1, 1, 27): ([524, 476], 0), (1, 3, 1): ([519, 480], 1), (1, 3, 3): ([507, 489], 4), (1, 3, 9): ([499, 501], 0), (1, 9, 1): ([512, 485], 3), (1, 9, 3): ([509, 491], 0), (1, 9, 9): ([502, 498], 0), (3, 1, 1): ([489, 510], 1), (3, 1, 3): ([496, 503], 1), (3, 1, 9): ([523, 477], 0), (3, 3, 1): ([494, 506], 0), (3, 3, 3): ([527, 473], 0), (3, 3, 9): ([508, 492], 0), (3, 9, 1): ([512, 488], 0), (3, 9, 3): ([495, 505], 0), (3, 9, 9): ([506, 494], 0), (9, 1, 1): ([529, 470], 1), (9, 1, 3): ([497, 503], 0), (9, 1, 9): ([507, 493], 0), (9, 3, 1): ([507, 493], 0), (9, 3, 3): ([493, 507], 0), (9, 3, 9): ([532, 468], 0), (9, 9, 1): ([537, 463], 0), (9, 9, 3): ([504, 495], 1), (9, 9, 9): ([522, 477], 1), (1, 3, 27): ([486, 513], 1), (1, 9, 27): ([503, 497], 0), (1, 27, 1): ([513, 487], 0), (1, 27, 3): ([501, 499], 0), (1, 27, 9): ([504, 496], 0), (1, 27, 27): ([481, 519], 0), (3, 1, 27): ([516, 483], 1), (3, 3, 27): ([510, 489], 1), (3, 9, 27): ([525, 475], 0), (3, 27, 1): ([514, 486], 0), (3, 27, 3): ([502, 498], 0), (3, 27, 9): ([527, 471], 2), (3, 27, 27): ([470, 527], 3), (9, 1, 27): ([479, 520], 1), (9, 3, 27): ([526, 474], 0), (9, 9, 27): ([507, 492], 1), (9, 27, 1): ([499, 500], 1), (9, 27, 3): ([465, 534], 1), (9, 27, 9): ([495, 504], 1), (9, 27, 27): ([487, 513], 0), (27, 1, 1): ([526, 474], 0), (27, 1, 3): ([538, 462], 0), (27, 1, 9): ([519, 479], 2), (27, 1, 27): ([502, 496], 2), (27, 3, 1): ([515, 485], 0), (27, 3, 3): ([488, 510], 2), (27, 3, 9): ([501, 499], 0), (27, 3, 27): ([499, 501], 0), (27, 9, 1): ([503, 496], 1), (27, 9, 3): ([504, 496], 0), (27, 9, 9): ([509, 491], 0), (27, 9, 27): ([530, 470], 0), (27, 27, 1): ([468, 532], 0), (27, 27, 3): ([507, 492], 1), (27, 27, 9): ([478, 522], 0)}\n",
      "Running experiment for k1:27, k2:27, k3:27\n"
     ]
    },
    {
     "name": "stderr",
     "output_type": "stream",
     "text": [
      "100%|████████████████████████████████████████████████████████████████████████████████████████████████| 1000/1000 [00:10<00:00, 97.45it/s]"
     ]
    },
    {
     "name": "stdout",
     "output_type": "stream",
     "text": [
      "{(1, 1, 1): ([468, 527], 5), (1, 1, 3): ([508, 492], 0), (1, 1, 9): ([522, 476], 2), (1, 1, 27): ([524, 476], 0), (1, 3, 1): ([519, 480], 1), (1, 3, 3): ([507, 489], 4), (1, 3, 9): ([499, 501], 0), (1, 9, 1): ([512, 485], 3), (1, 9, 3): ([509, 491], 0), (1, 9, 9): ([502, 498], 0), (3, 1, 1): ([489, 510], 1), (3, 1, 3): ([496, 503], 1), (3, 1, 9): ([523, 477], 0), (3, 3, 1): ([494, 506], 0), (3, 3, 3): ([527, 473], 0), (3, 3, 9): ([508, 492], 0), (3, 9, 1): ([512, 488], 0), (3, 9, 3): ([495, 505], 0), (3, 9, 9): ([506, 494], 0), (9, 1, 1): ([529, 470], 1), (9, 1, 3): ([497, 503], 0), (9, 1, 9): ([507, 493], 0), (9, 3, 1): ([507, 493], 0), (9, 3, 3): ([493, 507], 0), (9, 3, 9): ([532, 468], 0), (9, 9, 1): ([537, 463], 0), (9, 9, 3): ([504, 495], 1), (9, 9, 9): ([522, 477], 1), (1, 3, 27): ([486, 513], 1), (1, 9, 27): ([503, 497], 0), (1, 27, 1): ([513, 487], 0), (1, 27, 3): ([501, 499], 0), (1, 27, 9): ([504, 496], 0), (1, 27, 27): ([481, 519], 0), (3, 1, 27): ([516, 483], 1), (3, 3, 27): ([510, 489], 1), (3, 9, 27): ([525, 475], 0), (3, 27, 1): ([514, 486], 0), (3, 27, 3): ([502, 498], 0), (3, 27, 9): ([527, 471], 2), (3, 27, 27): ([470, 527], 3), (9, 1, 27): ([479, 520], 1), (9, 3, 27): ([526, 474], 0), (9, 9, 27): ([507, 492], 1), (9, 27, 1): ([499, 500], 1), (9, 27, 3): ([465, 534], 1), (9, 27, 9): ([495, 504], 1), (9, 27, 27): ([487, 513], 0), (27, 1, 1): ([526, 474], 0), (27, 1, 3): ([538, 462], 0), (27, 1, 9): ([519, 479], 2), (27, 1, 27): ([502, 496], 2), (27, 3, 1): ([515, 485], 0), (27, 3, 3): ([488, 510], 2), (27, 3, 9): ([501, 499], 0), (27, 3, 27): ([499, 501], 0), (27, 9, 1): ([503, 496], 1), (27, 9, 3): ([504, 496], 0), (27, 9, 9): ([509, 491], 0), (27, 9, 27): ([530, 470], 0), (27, 27, 1): ([468, 532], 0), (27, 27, 3): ([507, 492], 1), (27, 27, 9): ([478, 522], 0), (27, 27, 27): ([482, 518], 0)}\n"
     ]
    },
    {
     "name": "stderr",
     "output_type": "stream",
     "text": [
      "\n"
     ]
    }
   ],
   "source": [
    "\"\"\"\n",
    "A rectangle and an equal amount of random noise\n",
    "\"\"\"\n",
    "\n",
    "results = {(1, 1, 1): ([468, 527], 5),\n",
    " (1, 1, 3): ([508, 492], 0),\n",
    " (1, 1, 9): ([522, 476], 2),\n",
    " (1, 1, 27): ([524, 476], 0),\n",
    " (1, 3, 1): ([519, 480], 1),\n",
    " (1, 3, 3): ([507, 489], 4),\n",
    " (1, 3, 9): ([499, 501], 0),\n",
    " (1, 9, 1): ([512, 485], 3),\n",
    " (1, 9, 3): ([509, 491], 0),\n",
    " (1, 9, 9): ([502, 498], 0),\n",
    " (3, 1, 1): ([489, 510], 1),\n",
    " (3, 1, 3): ([496, 503], 1),\n",
    " (3, 1, 9): ([523, 477], 0),\n",
    " (3, 3, 1): ([494, 506], 0),\n",
    " (3, 3, 3): ([527, 473], 0),\n",
    " (3, 3, 9): ([508, 492], 0),\n",
    " (3, 9, 1): ([512, 488], 0),\n",
    " (3, 9, 3): ([495, 505], 0),\n",
    " (3, 9, 9): ([506, 494], 0),\n",
    " (9, 1, 1): ([529, 470], 1),\n",
    " (9, 1, 3): ([497, 503], 0),\n",
    " (9, 1, 9): ([507, 493], 0),\n",
    " (9, 3, 1): ([507, 493], 0),\n",
    " (9, 3, 3): ([493, 507], 0),\n",
    " (9, 3, 9): ([532, 468], 0),\n",
    " (9, 9, 1): ([537, 463], 0),\n",
    " (9, 9, 3): ([504, 495], 1),\n",
    " (9, 9, 9): ([522, 477], 1)}\n",
    "\n",
    "N = 40\n",
    "trials = 1000\n",
    "buckets_per_level = 10\n",
    "level_gap = 5\n",
    "\n",
    "dyadic_base = 3\n",
    "\n",
    "logN = math.floor(math.log(N,dyadic_base))\n",
    "rect_params = [(dyadic_base**i,dyadic_base**j,dyadic_base**k)\n",
    "  for i,j,k in itertools.product(range(logN + 1), repeat=3)\n",
    "  if dyadic_base**(i+j+k) <= (N**3)/2]\n",
    "\n",
    "#results = {}\n",
    "for k1, k2, k3 in rect_params:\n",
    "\n",
    "  print(f\"Running experiment for k1:{k1}, k2:{k2}, k3:{k3}\")\n",
    "  if (k1,k2,k3) in results.keys(): #This is just to allow reruns in case of failure\n",
    "    continue\n",
    "\n",
    "  support_mask = list(itertools.product(range(k1), range(k2), range(k3)))\n",
    "  supp_size = k1*k2*k3\n",
    "\n",
    "  rect_mask = list(itertools.product(range(k1), range(k2), range(k3)))\n",
    "\n",
    "  remaining_coords = [(i,j,k) for i,j,k in itertools.product(range(N), repeat=3) if (i,j,k) not in support_mask]\n",
    "  sampled_coords = random.sample(remaining_coords, supp_size)\n",
    "\n",
    "  results[(k1,k2,k3)] = multi_region_experiment(N, [rect_mask, sampled_coords], trials, buckets_per_level, level_gap)\n",
    "\n",
    "  print(results)"
   ]
  },
  {
   "cell_type": "code",
   "execution_count": 12,
   "metadata": {
    "colab": {
     "base_uri": "https://localhost:8080/"
    },
    "id": "H5g__pO8FRTT",
    "outputId": "b88fc05b-3a79-4710-a7f1-0f0ac5f2e8ca"
   },
   "outputs": [
    {
     "data": {
      "text/plain": [
       "{(1, 1, 1): ([468, 527], 5),\n",
       " (1, 1, 3): ([508, 492], 0),\n",
       " (1, 1, 9): ([522, 476], 2),\n",
       " (1, 1, 27): ([524, 476], 0),\n",
       " (1, 3, 1): ([519, 480], 1),\n",
       " (1, 3, 3): ([507, 489], 4),\n",
       " (1, 3, 9): ([499, 501], 0),\n",
       " (1, 9, 1): ([512, 485], 3),\n",
       " (1, 9, 3): ([509, 491], 0),\n",
       " (1, 9, 9): ([502, 498], 0),\n",
       " (3, 1, 1): ([489, 510], 1),\n",
       " (3, 1, 3): ([496, 503], 1),\n",
       " (3, 1, 9): ([523, 477], 0),\n",
       " (3, 3, 1): ([494, 506], 0),\n",
       " (3, 3, 3): ([527, 473], 0),\n",
       " (3, 3, 9): ([508, 492], 0),\n",
       " (3, 9, 1): ([512, 488], 0),\n",
       " (3, 9, 3): ([495, 505], 0),\n",
       " (3, 9, 9): ([506, 494], 0),\n",
       " (9, 1, 1): ([529, 470], 1),\n",
       " (9, 1, 3): ([497, 503], 0),\n",
       " (9, 1, 9): ([507, 493], 0),\n",
       " (9, 3, 1): ([507, 493], 0),\n",
       " (9, 3, 3): ([493, 507], 0),\n",
       " (9, 3, 9): ([532, 468], 0),\n",
       " (9, 9, 1): ([537, 463], 0),\n",
       " (9, 9, 3): ([504, 495], 1),\n",
       " (9, 9, 9): ([522, 477], 1),\n",
       " (1, 3, 27): ([486, 513], 1),\n",
       " (1, 9, 27): ([503, 497], 0),\n",
       " (1, 27, 1): ([513, 487], 0),\n",
       " (1, 27, 3): ([501, 499], 0),\n",
       " (1, 27, 9): ([504, 496], 0),\n",
       " (1, 27, 27): ([481, 519], 0),\n",
       " (3, 1, 27): ([516, 483], 1),\n",
       " (3, 3, 27): ([510, 489], 1),\n",
       " (3, 9, 27): ([525, 475], 0),\n",
       " (3, 27, 1): ([514, 486], 0),\n",
       " (3, 27, 3): ([502, 498], 0),\n",
       " (3, 27, 9): ([527, 471], 2),\n",
       " (3, 27, 27): ([470, 527], 3),\n",
       " (9, 1, 27): ([479, 520], 1),\n",
       " (9, 3, 27): ([526, 474], 0),\n",
       " (9, 9, 27): ([507, 492], 1),\n",
       " (9, 27, 1): ([499, 500], 1),\n",
       " (9, 27, 3): ([465, 534], 1),\n",
       " (9, 27, 9): ([495, 504], 1),\n",
       " (9, 27, 27): ([487, 513], 0),\n",
       " (27, 1, 1): ([526, 474], 0),\n",
       " (27, 1, 3): ([538, 462], 0),\n",
       " (27, 1, 9): ([519, 479], 2),\n",
       " (27, 1, 27): ([502, 496], 2),\n",
       " (27, 3, 1): ([515, 485], 0),\n",
       " (27, 3, 3): ([488, 510], 2),\n",
       " (27, 3, 9): ([501, 499], 0),\n",
       " (27, 3, 27): ([499, 501], 0),\n",
       " (27, 9, 1): ([503, 496], 1),\n",
       " (27, 9, 3): ([504, 496], 0),\n",
       " (27, 9, 9): ([509, 491], 0),\n",
       " (27, 9, 27): ([530, 470], 0),\n",
       " (27, 27, 1): ([468, 532], 0),\n",
       " (27, 27, 3): ([507, 492], 1),\n",
       " (27, 27, 9): ([478, 522], 0),\n",
       " (27, 27, 27): ([482, 518], 0)}"
      ]
     },
     "execution_count": 12,
     "metadata": {},
     "output_type": "execute_result"
    }
   ],
   "source": [
    "results"
   ]
  },
  {
   "cell_type": "code",
   "execution_count": null,
   "metadata": {
    "id": "LZbn8yfCDFI-"
   },
   "outputs": [],
   "source": [
    "N = 30\n",
    "h1,h2,h3 = 5,5,5\n",
    "ext1, ext2, ext3 =\n",
    "\n",
    "assert h1+h2 <= N and h1+h3 <= N and h2+h3 <= N\n",
    "\n",
    "region1 = list(itertools.product(range(k1), range(k2), range(k3)))\n",
    "\n",
    "rect2 = list(itertools.product(range(h1), range(h2), range(h3)))\n",
    "region2 = [(k1+x,k2+y, k3+z) for x,y,z in rect2]\n",
    "\n",
    "multi_region_experiment(N, [region1, region2], trials=1000, buckets_per_level = 10, level_gap = 5)"
   ]
  },
  {
   "cell_type": "code",
   "execution_count": 21,
   "metadata": {
    "colab": {
     "base_uri": "https://localhost:8080/",
     "height": 504
    },
    "id": "IgAhPKWlJjEN",
    "outputId": "a2b90eea-e9eb-44d9-ba3a-2e3d94ac23b0"
   },
   "outputs": [
    {
     "name": "stderr",
     "output_type": "stream",
     "text": [
      "100%|██████████| 1000/1000 [00:00<00:00, 1598.44it/s]\n"
     ]
    },
    {
     "name": "stdout",
     "output_type": "stream",
     "text": [
      "[9, 6, 9, 3, 10, 8, 12, 11, 9, 11, 12, 17, 12, 9, 7, 10, 8, 11, 12, 8, 7, 12, 12, 14, 1, 10, 11, 6, 16, 4, 13, 9, 12, 14, 7, 11, 10, 10, 14, 9, 8, 9, 11, 8, 9, 12, 6, 11, 10, 6, 9, 13, 13, 10, 12, 13, 8, 11, 11, 12, 13, 8, 10, 6, 12, 6, 15, 16, 14, 14, 14, 6, 14, 7, 12, 11, 7, 8, 9, 4, 15, 6, 14, 11, 5, 7, 10, 7, 12, 8, 9, 9, 6, 7, 10, 11, 3, 12, 11, 13]\n",
      "fails/trials: 10/1000\n"
     ]
    },
    {
     "data": {
      "image/png": "[encoded data removed]",
      "text/plain": [
       "<Figure size 640x480 with 1 Axes>"
      ]
     },
     "metadata": {},
     "output_type": "display_data"
    }
   ],
   "source": [
    "N = 10\n",
    "k1,k2,k3 = N,N,1\n",
    "support_mask = list(itertools.product(range(k1), range(k2), range(k3)))\n",
    "trials = 1000\n",
    "buckets_per_level = 10\n",
    "level_gap = 5\n",
    "\n",
    "hist, fail_count = ell_0_experiment(N, support_mask, trials, buckets_per_level, level_gap)\n",
    "print(hist)\n",
    "print(f\"fails/trials: {fail_count}/{trials}\")\n",
    "\n",
    "plt.plot(sorted(hist))\n",
    "plt.show()"
   ]
  },
  {
   "cell_type": "code",
   "execution_count": 22,
   "metadata": {
    "colab": {
     "base_uri": "https://localhost:8080/",
     "height": 487
    },
    "id": "LzR6e8OVILex",
    "outputId": "c3171dd4-b227-46ac-dbe1-336b32b9e9a2"
   },
   "outputs": [
    {
     "name": "stderr",
     "output_type": "stream",
     "text": [
      "100%|██████████| 1000/1000 [00:00<00:00, 2771.42it/s]\n"
     ]
    },
    {
     "name": "stdout",
     "output_type": "stream",
     "text": [
      "[64, 64, 69, 60, 45, 62, 66, 63]\n",
      "507\n"
     ]
    },
    {
     "data": {
      "image/png": "[encoded data removed]",
      "text/plain": [
       "<Figure size 640x480 with 1 Axes>"
      ]
     },
     "metadata": {},
     "output_type": "display_data"
    }
   ],
   "source": [
    "N = 10\n",
    "k1,k2,k3 = 2,2,2\n",
    "support_mask = list(itertools.product(range(k1), range(k2), range(k3)))\n",
    "trials = 1000\n",
    "buckets_per_level = 1\n",
    "level_gap = 100\n",
    "\n",
    "hist, fail_count = ell_0_experiment(N, support_mask, trials, buckets_per_level, level_gap)\n",
    "print(hist)\n",
    "print(fail_count)\n",
    "\n",
    "plt.plot(hist)\n",
    "plt.show()"
   ]
  },
  {
   "cell_type": "code",
   "execution_count": 24,
   "metadata": {
    "colab": {
     "base_uri": "https://localhost:8080/",
     "height": 484
    },
    "id": "4jQK7Tcp4vIj",
    "outputId": "7436de20-c56f-4208-d6ba-6f3194b248a9"
   },
   "outputs": [
    {
     "name": "stderr",
     "output_type": "stream",
     "text": [
      "100%|██████████| 1000/1000 [02:54<00:00,  5.72it/s]\n"
     ]
    },
    {
     "name": "stdout",
     "output_type": "stream",
     "text": [
      "[57, 52, 63, 60, 80, 51, 56, 63, 62, 57, 62, 59, 57, 56, 56, 55]\n",
      "54\n"
     ]
    },
    {
     "data": {
      "image/png": "[encoded data removed]",
      "text/plain": [
       "<Figure size 640x480 with 1 Axes>"
      ]
     },
     "metadata": {},
     "output_type": "display_data"
    }
   ],
   "source": [
    "N = 40\n",
    "k1,k2,k3 = 2,2,2\n",
    "supp_size = k1*k2*k3\n",
    "\n",
    "support_mask = list(itertools.product(range(k1), range(k2), range(k3)))\n",
    "\n",
    "remaining_coords = [(i,j,k) for i,j,k in itertools.product(range(N), repeat=3) if (i,j,k) not in support_mask]\n",
    "\n",
    "sampled_coords = random.sample(remaining_coords, supp_size)\n",
    "\n",
    "support_mask = support_mask + sampled_coords\n",
    "\n",
    "trials = 1000\n",
    "buckets_per_level = 5\n",
    "level_gap = 5\n",
    "\n",
    "hist, fail_count = ell_0_experiment(N, support_mask, trials, buckets_per_level, level_gap)\n",
    "print(hist)\n",
    "print(fail_count)\n",
    "\n",
    "plt.plot(hist)\n",
    "plt.show()"
   ]
  },
  {
   "cell_type": "code",
   "execution_count": null,
   "metadata": {
    "colab": {
     "base_uri": "https://localhost:8080/"
    },
    "id": "zeV5OfogORO3",
    "outputId": "9c34b079-fe34-4d67-b503-49ac9265b48f"
   },
   "outputs": [
    {
     "data": {
      "text/plain": [
       "(1.0, 8e-06)"
      ]
     },
     "execution_count": 74,
     "metadata": {},
     "output_type": "execute_result"
    }
   ],
   "source": [
    "A = np.ones((50,50,50))\n",
    "ell_0_sample(A, buckets_per_level=1, level_gap=5)"
   ]
  },
  {
   "cell_type": "code",
   "execution_count": null,
   "metadata": {
    "colab": {
     "base_uri": "https://localhost:8080/"
    },
    "id": "X9YZpqEHE_Wf",
    "outputId": "9002f2c7-a6cd-49f7-9cc2-829f7f9d50da"
   },
   "outputs": [
    {
     "data": {
      "text/plain": [
       "(5.0, 0.023148148148148147)"
      ]
     },
     "execution_count": 104,
     "metadata": {},
     "output_type": "execute_result"
    }
   ],
   "source": [
    "N = 30\n",
    "k1,k2,k3 = 2,2,2\n",
    "\n",
    "A = np.zeros((N,N,N))\n",
    "A[0:k1,0:k2,0:k3] = np.reshape(np.arange(k1*k2*k3), (k1,k2,k3))\n",
    "ell_0_sample(A, buckets_per_level=10, level_gap=5)"
   ]
  },
  {
   "cell_type": "code",
   "execution_count": null,
   "metadata": {
    "colab": {
     "base_uri": "https://localhost:8080/"
    },
    "id": "c5zPk4B_Fq2v",
    "outputId": "f11d958a-a217-42c1-d2bf-795a75447709"
   },
   "outputs": [
    {
     "data": {
      "text/plain": [
       "0.0008"
      ]
     },
     "execution_count": 44,
     "metadata": {},
     "output_type": "execute_result"
    }
   ],
   "source": []
  },
  {
   "cell_type": "code",
   "execution_count": null,
   "metadata": {
    "id": "6hgIj38bFwQo"
   },
   "outputs": [],
   "source": []
  },
  {
   "cell_type": "markdown",
   "metadata": {
    "id": "HkyVf-YQ2kJ0"
   },
   "source": [
    "**Junk**"
   ]
  },
  {
   "cell_type": "code",
   "execution_count": 2,
   "metadata": {
    "id": "dgMHBx8H2kvt"
   },
   "outputs": [],
   "source": [
    "def B_sum_dense(X, T):\n",
    "  #'''sum over (i,j,k) of X_{ijk} where i + j + k (mod N) in [0,T-1]'''\n",
    "\n",
    "  cube_value_check(X)\n",
    "  N = X.shape[0]\n",
    "\n",
    "  if T > N:\n",
    "    raise ValueError(\"T must be <= dimension of each mode\")\n",
    "\n",
    "  prod_tuples = itertools.product(range(N), repeat=3)\n",
    "  return sum([X[i,j,k] for i,j,k in prod_tuples if 0 <= (i+j+k)%N <= T-1])\n",
    "\n",
    "def C_sum_dense(X, T):\n",
    "  '''\n",
    "  vector whose index k entry is given by:\n",
    "  sum over x_i y_j where i + j = k and 0 <= i-j <= T-1\n",
    "  '''\n",
    "\n",
    "  cube_value_check(X)\n",
    "  N = X.shape[0]\n",
    "\n",
    "  if T > N:\n",
    "    raise ValueError(\"T must be <= dimension of each mode\")\n",
    "\n",
    "\n",
    "  return sum([X[i,j, (i+j) % N] for i,j in itertools.product(range(N), range(N))\n",
    "      if 0 <= (i-j)%N <= T-1])"
   ]
  },
  {
   "cell_type": "code",
   "execution_count": null,
   "metadata": {
    "id": "q4nV-bQw2lTv"
   },
   "outputs": [],
   "source": []
  }
 ],
 "metadata": {
  "colab": {
   "provenance": []
  },
  "kernelspec": {
   "display_name": "Python 3 (ipykernel)",
   "language": "python",
   "name": "python3"
  },
  "language_info": {
   "codemirror_mode": {
    "name": "ipython",
    "version": 3
   },
   "file_extension": ".py",
   "mimetype": "text/x-python",
   "name": "python",
   "nbconvert_exporter": "python",
   "pygments_lexer": "ipython3",
   "version": "3.9.13"
  }
 },
 "nbformat": 4,
 "nbformat_minor": 4
}
